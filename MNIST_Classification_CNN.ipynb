{
 "cells": [
  {
   "cell_type": "markdown",
   "metadata": {},
   "source": [
    "# MNIST Image Classification with TensorFlow"
   ]
  },
  {
   "cell_type": "code",
   "execution_count": 1,
   "metadata": {},
   "outputs": [
    {
     "name": "stderr",
     "output_type": "stream",
     "text": [
      "/Users/sashakapralov/anaconda3/envs/py36_2/lib/python3.6/importlib/_bootstrap.py:219: RuntimeWarning: numpy.dtype size changed, may indicate binary incompatibility. Expected 96, got 88\n",
      "  return f(*args, **kwds)\n"
     ]
    }
   ],
   "source": [
    "from sklearn.datasets import fetch_mldata\n",
    "import tensorflow as tf\n",
    "import numpy as np\n",
    "import matplotlib.pyplot as plt\n",
    "import seaborn as sns\n",
    "%matplotlib inline"
   ]
  },
  {
   "cell_type": "markdown",
   "metadata": {},
   "source": [
    "### LOAD DATA"
   ]
  },
  {
   "cell_type": "code",
   "execution_count": 6,
   "metadata": {},
   "outputs": [],
   "source": [
    "mnist = fetch_mldata('MNIST original')"
   ]
  },
  {
   "cell_type": "code",
   "execution_count": 7,
   "metadata": {},
   "outputs": [],
   "source": [
    "X = mnist.data\n",
    "y = mnist.target"
   ]
  },
  {
   "cell_type": "code",
   "execution_count": 22,
   "metadata": {},
   "outputs": [],
   "source": [
    "m = len(X)\n",
    "perm = np.random.permutation(m)"
   ]
  },
  {
   "cell_type": "code",
   "execution_count": 27,
   "metadata": {},
   "outputs": [],
   "source": [
    "x_train, x_test = X[perm][10000:], X[perm][:10000]\n",
    "y_train, y_test = y[perm][10000:], y[perm][:10000]\n",
    "\n",
    "x_train = x_train / 255\n",
    "x_test = x_test / 255"
   ]
  },
  {
   "cell_type": "code",
   "execution_count": 28,
   "metadata": {},
   "outputs": [
    {
     "data": {
      "image/png": "[encoded data removed]",
      "text/plain": [
       "<Figure size 432x288 with 4 Axes>"
      ]
     },
     "metadata": {
      "needs_background": "light"
     },
     "output_type": "display_data"
    }
   ],
   "source": [
    "f, ax = plt.subplots(2,2)\n",
    "ax[0, 0].imshow(X[50000].reshape(28,28), cmap='Greys')\n",
    "ax[0, 1].imshow(X[61199].reshape(28,28), cmap='Greys')\n",
    "ax[1, 0].imshow(X[50420].reshape(28,28), cmap='Greys')\n",
    "ax[1, 1].imshow(X[61933].reshape(28,28), cmap='Greys')\n",
    "plt.show()"
   ]
  },
  {
   "cell_type": "markdown",
   "metadata": {},
   "source": [
    "### DATA AUGMENTATION"
   ]
  },
  {
   "cell_type": "code",
   "execution_count": 29,
   "metadata": {},
   "outputs": [],
   "source": [
    "from scipy.ndimage.interpolation import shift"
   ]
  },
  {
   "cell_type": "code",
   "execution_count": 30,
   "metadata": {},
   "outputs": [],
   "source": [
    "def shift_image(image, dx, dy):\n",
    "    image = image.reshape((28,28))\n",
    "    shifted_image = shift(image, [dx, dy], cval = 0, mode='constant')\n",
    "    return shifted_image.reshape([-1])"
   ]
  },
  {
   "cell_type": "code",
   "execution_count": 31,
   "metadata": {},
   "outputs": [],
   "source": [
    "x_train_shift = []\n",
    "y_train_augmented = []\n",
    "\n",
    "#shift images by 1 pixel right, left, up and down\n",
    "for dx, dy in ((1,0),(-1,0),(0,1),(0,-1)):\n",
    "    for image, label in zip(x_train, y_train):\n",
    "        x_train_shift.append(shift_image(image, dx, dy))\n",
    "        y_train_augmented.append(label)"
   ]
  },
  {
   "cell_type": "code",
   "execution_count": 32,
   "metadata": {},
   "outputs": [],
   "source": [
    "x_train_shift = np.array(x_train_shift)\n",
    "y_train_augmented = np.array(y_train_augmented)"
   ]
  },
  {
   "cell_type": "code",
   "execution_count": 33,
   "metadata": {},
   "outputs": [
    {
     "data": {
      "text/plain": [
       "((240000, 784), (240000,))"
      ]
     },
     "execution_count": 33,
     "metadata": {},
     "output_type": "execute_result"
    }
   ],
   "source": [
    "x_train_shift.shape, y_train_augmented.shape"
   ]
  },
  {
   "cell_type": "code",
   "execution_count": 34,
   "metadata": {},
   "outputs": [
    {
     "data": {
      "image/png": "[encoded data removed]",
      "text/plain": [
       "<Figure size 864x720 with 4 Axes>"
      ]
     },
     "metadata": {
      "needs_background": "light"
     },
     "output_type": "display_data"
    }
   ],
   "source": [
    "f, ax = plt.subplots(2,2, figsize=(12,10))\n",
    "ax[0, 0].imshow(x_train_shift[60001].reshape(28,28), cmap='Greys')\n",
    "ax[1, 0].imshow(x_train_shift[1].reshape(28,28), cmap='Greys')\n",
    "ax[0, 1].imshow(x_train_shift[120001].reshape(28,28), cmap='Greys')\n",
    "ax[1, 1].imshow(x_train_shift[180001].reshape(28,28), cmap='Greys')\n",
    "ax[0, 0].grid()\n",
    "ax[1, 0].grid()\n",
    "ax[0, 1].grid()\n",
    "ax[1, 1].grid()"
   ]
  },
  {
   "cell_type": "code",
   "execution_count": 35,
   "metadata": {},
   "outputs": [],
   "source": [
    "import cv2"
   ]
  },
  {
   "cell_type": "code",
   "execution_count": 36,
   "metadata": {},
   "outputs": [],
   "source": [
    "def horizontal_flip(images):\n",
    "    flipped_images = []\n",
    "    for img in images:\n",
    "        flipped_img = cv2.flip(img, flipCode = 1) #1 means flip around y-axis\n",
    "        flipped_images.append(flipped_img)\n",
    "    return (flipped_images)"
   ]
  },
  {
   "cell_type": "code",
   "execution_count": 37,
   "metadata": {},
   "outputs": [],
   "source": [
    "flipped_imgs = horizontal_flip(x_train.reshape(-1,28,28))"
   ]
  },
  {
   "cell_type": "code",
   "execution_count": 38,
   "metadata": {},
   "outputs": [],
   "source": [
    "flipped_imgs = np.array(flipped_imgs)\n",
    "flipped_labels = np.array(y_train[:])"
   ]
  },
  {
   "cell_type": "code",
   "execution_count": 39,
   "metadata": {},
   "outputs": [],
   "source": [
    "flipped_imgs = flipped_imgs.reshape(-1,28,28)"
   ]
  },
  {
   "cell_type": "code",
   "execution_count": 40,
   "metadata": {},
   "outputs": [
    {
     "data": {
      "text/plain": [
       "((60000, 28, 28), (60000,))"
      ]
     },
     "execution_count": 40,
     "metadata": {},
     "output_type": "execute_result"
    }
   ],
   "source": [
    "flipped_imgs.shape, flipped_labels.shape"
   ]
  },
  {
   "cell_type": "code",
   "execution_count": 44,
   "metadata": {},
   "outputs": [
    {
     "data": {
      "image/png": "[encoded data removed]",
      "text/plain": [
       "<Figure size 432x288 with 2 Axes>"
      ]
     },
     "metadata": {
      "needs_background": "light"
     },
     "output_type": "display_data"
    }
   ],
   "source": [
    "f, ax = plt.subplots(1,2)\n",
    "ax[0].imshow(flipped_imgs[100].reshape(28,28), cmap='Greys')\n",
    "ax[1].imshow(x_train[100].reshape(28,28), cmap='Greys')\n",
    "plt.show()"
   ]
  },
  {
   "cell_type": "markdown",
   "metadata": {},
   "source": [
    "### NEURAL NETWORK"
   ]
  },
  {
   "cell_type": "code",
   "execution_count": 45,
   "metadata": {},
   "outputs": [],
   "source": [
    "#helper function for feeding random mini batches to neural network\n",
    "def shuffle_batch(x, y, batch_size):\n",
    "    rnd_idx = np.random.permutation(len(x))\n",
    "    n_batches = len(x)//batch_size\n",
    "    for batch_idx in np.array_split(rnd_idx, n_batches):\n",
    "        x_batch, y_batch = x[batch_idx], y[batch_idx]\n",
    "        yield x_batch, y_batch"
   ]
  },
  {
   "cell_type": "code",
   "execution_count": 51,
   "metadata": {},
   "outputs": [],
   "source": [
    "tf.reset_default_graph()"
   ]
  },
  {
   "cell_type": "code",
   "execution_count": 52,
   "metadata": {},
   "outputs": [],
   "source": [
    "with tf.name_scope('placeholders'):\n",
    "    \n",
    "    X = tf.placeholder(np.float32, shape=[None,28,28], name='X')\n",
    "    X_reshaped = tf.reshape(X, [-1,28,28,1], name='X_reshaped')\n",
    "    y = tf.placeholder(np.int32, shape=None, name='y')"
   ]
  },
  {
   "cell_type": "code",
   "execution_count": 53,
   "metadata": {},
   "outputs": [],
   "source": [
    "with tf.name_scope('conv'):\n",
    "    \n",
    "    conv1 = tf.layers.conv2d(X_reshaped, 12, [3,3], strides=1, padding='SAME', name='conv1') #12 feature maps, 3x3 filter\n",
    "    pool1 = tf.layers.max_pooling2d(conv1, [3,3], strides=2, name='pool1')\n",
    "    \n",
    "    conv2 = tf.layers.conv2d(pool1, 16, [3,3], strides=1, padding='SAME', name='conv2')\n",
    "    pool2 = tf.layers.max_pooling2d(conv2, [3,3], strides=2, name='pool2')\n",
    "    \n",
    "    pool2_flatten = tf.reshape(pool2, shape=(-1,6*6*16))\n",
    "    \n",
    "    fc1 = tf.layers.dense(pool2_flatten, 256, activation = tf.nn.selu, name = 'fc1')\n",
    "    fc2 = tf.layers.dense(fc1, 100, activation = tf.nn.selu, name = 'fc2')\n",
    "    \n",
    "    logits = tf.layers.dense(fc2, 10, activation = tf.nn.selu, name = 'output')"
   ]
  },
  {
   "cell_type": "code",
   "execution_count": 54,
   "metadata": {},
   "outputs": [],
   "source": [
    "with tf.name_scope('loss'):\n",
    "    xentropy = tf.nn.sparse_softmax_cross_entropy_with_logits(logits=logits, labels=y)\n",
    "    loss = tf.reduce_mean(xentropy)"
   ]
  },
  {
   "cell_type": "code",
   "execution_count": 55,
   "metadata": {},
   "outputs": [],
   "source": [
    "with tf.name_scope('train'):\n",
    "    optimizer = tf.train.AdamOptimizer(0.001)\n",
    "    training_op = optimizer.minimize(loss)"
   ]
  },
  {
   "cell_type": "code",
   "execution_count": 56,
   "metadata": {},
   "outputs": [],
   "source": [
    "with tf.name_scope('eval'):\n",
    "    correct = tf.nn.in_top_k(logits, y, 1)\n",
    "    accuracy = tf.reduce_mean(tf.cast(correct, np.float32))"
   ]
  },
  {
   "cell_type": "code",
   "execution_count": 57,
   "metadata": {},
   "outputs": [],
   "source": [
    "import time"
   ]
  },
  {
   "cell_type": "code",
   "execution_count": 59,
   "metadata": {},
   "outputs": [
    {
     "name": "stdout",
     "output_type": "stream",
     "text": [
      "0 Batch Accuracy = 0.9609375 Validation Accuracy = 0.974\n",
      "1 Batch Accuracy = 0.9765625 Validation Accuracy = 0.983\n",
      "2 Batch Accuracy = 0.984375 Validation Accuracy = 0.9808\n",
      "3 Batch Accuracy = 0.9921875 Validation Accuracy = 0.9872\n",
      "4 Batch Accuracy = 0.984375 Validation Accuracy = 0.9872\n",
      "5 Batch Accuracy = 1.0 Validation Accuracy = 0.9864\n",
      "6 Batch Accuracy = 0.9921875 Validation Accuracy = 0.9864\n",
      "7 Batch Accuracy = 0.9921875 Validation Accuracy = 0.9879\n",
      "8 Batch Accuracy = 1.0 Validation Accuracy = 0.9869\n",
      "9 Batch Accuracy = 1.0 Validation Accuracy = 0.988\n",
      "10 Batch Accuracy = 0.9921875 Validation Accuracy = 0.9869\n",
      "11 Batch Accuracy = 1.0 Validation Accuracy = 0.9888\n",
      "12 Batch Accuracy = 1.0 Validation Accuracy = 0.9864\n",
      "13 Batch Accuracy = 1.0 Validation Accuracy = 0.9899\n",
      "14 Batch Accuracy = 1.0 Validation Accuracy = 0.9892\n",
      "15 Batch Accuracy = 0.9921875 Validation Accuracy = 0.99\n",
      "16 Batch Accuracy = 1.0 Validation Accuracy = 0.9903\n",
      "17 Batch Accuracy = 1.0 Validation Accuracy = 0.9908\n",
      "18 Batch Accuracy = 1.0 Validation Accuracy = 0.9893\n",
      "19 Batch Accuracy = 1.0 Validation Accuracy = 0.9917\n",
      "Elapsed Time:  18.07064821720123 Minutes\n"
     ]
    }
   ],
   "source": [
    "batch_size = 128\n",
    "\n",
    "out = []\n",
    "\n",
    "start_time = time.time()\n",
    "\n",
    "with tf.Session() as sess:\n",
    "    sess.run(tf.global_variables_initializer())\n",
    "    out = []\n",
    "    for epoch in range(20):\n",
    "        for x_batch, y_batch in shuffle_batch(x_train, y_train, batch_size):\n",
    "            sess.run(training_op, feed_dict = {X: x_batch.reshape((-1,28,28)), y:  y_batch})\n",
    "        batch_acc = accuracy.eval(feed_dict = {X: x_batch.reshape((-1,28,28)), y:  y_batch})\n",
    "        val_acc = accuracy.eval(feed_dict = {X: x_test.reshape((-1,28,28)), y:  y_test})\n",
    "        print(epoch, \"Batch Accuracy =\", batch_acc, \"Validation Accuracy =\", val_acc)\n",
    "        outputs = sess.run(logits, feed_dict = {X: x_test.reshape((-1,28,28))})\n",
    "        out.append(outputs)\n",
    "        \n",
    "print(\"Elapsed Time: \", (time.time() - start_time)/60., \"Minutes\")"
   ]
  },
  {
   "cell_type": "markdown",
   "metadata": {},
   "source": [
    "### NEURAL NETWORK WITH SHIFTED/FLIPPED FEATURES AND DROPOUT AND BATCH NORMALIZATION"
   ]
  },
  {
   "cell_type": "code",
   "execution_count": 80,
   "metadata": {},
   "outputs": [],
   "source": [
    "tf.reset_default_graph()"
   ]
  },
  {
   "cell_type": "code",
   "execution_count": 81,
   "metadata": {},
   "outputs": [],
   "source": [
    "with tf.name_scope('placeholders'):\n",
    "    \n",
    "    X = tf.placeholder(np.float32, shape=[None,28,28], name='X')\n",
    "    X_reshaped = tf.reshape(X, [-1,28,28,1], name='X_reshaped')\n",
    "    y = tf.placeholder(np.int32, shape=None, name='y')\n",
    "    \n",
    "    bn1_train = tf.placeholder_with_default(True, shape = (None), name = 'bn1_holder')\n",
    "    bn2_train = tf.placeholder_with_default(True, shape = (None), name = 'bn2_holder')\n",
    "    \n",
    "    drop1 = tf.placeholder_with_default(True, shape=(None), name = 'Drop1')\n",
    "    drop2 = tf.placeholder_with_default(True, shape=(None), name = 'Drop2')"
   ]
  },
  {
   "cell_type": "code",
   "execution_count": 82,
   "metadata": {},
   "outputs": [],
   "source": [
    "with tf.name_scope('conv'):\n",
    "    \n",
    "    conv1 = tf.layers.conv2d(X_reshaped, 12, [3,3], strides=1, padding='SAME', name='conv1') #12 feature maps, 3x3 filter\n",
    "    pool1 = tf.layers.max_pooling2d(conv1, [3,3], strides=2, name='pool1')\n",
    "    bn1 = tf.layers.batch_normalization(pool1, training = bn1_train, momentum=0.9)\n",
    "    dropout1 = tf.layers.dropout(bn1, 0.5, training=drop1)\n",
    "    \n",
    "    conv2 = tf.layers.conv2d(pool1, 16, [3,3], strides=1, padding='SAME', name='conv2')\n",
    "    pool2 = tf.layers.max_pooling2d(conv2, [3,3], strides=2, name='pool2')\n",
    "    bn2 = tf.layers.batch_normalization(pool2, training = bn2_train, momentum=0.9)\n",
    "    dropout2 = tf.layers.dropout(bn2, 0.5, training=drop2)\n",
    "    \n",
    "    bn2_flatten = tf.reshape(dropout2, shape=(-1,6*6*16))\n",
    "    \n",
    "    fc1 = tf.layers.dense(bn2_flatten, 256, activation = tf.nn.selu, name = 'fc1')\n",
    "    fc2 = tf.layers.dense(fc1, 100, activation = tf.nn.selu, name = 'fc2')\n",
    "    \n",
    "    logits = tf.layers.dense(fc2, 10, activation = tf.nn.selu, name = 'output')"
   ]
  },
  {
   "cell_type": "code",
   "execution_count": 83,
   "metadata": {},
   "outputs": [],
   "source": [
    "with tf.name_scope('loss'):\n",
    "    xentropy = tf.nn.sparse_softmax_cross_entropy_with_logits(logits=logits, labels=y)\n",
    "    loss = tf.reduce_mean(xentropy)"
   ]
  },
  {
   "cell_type": "code",
   "execution_count": 84,
   "metadata": {},
   "outputs": [],
   "source": [
    "with tf.name_scope('train'):\n",
    "    optimizer = tf.train.AdamOptimizer(0.001)\n",
    "    training_op = optimizer.minimize(loss)"
   ]
  },
  {
   "cell_type": "code",
   "execution_count": 85,
   "metadata": {},
   "outputs": [],
   "source": [
    "with tf.name_scope('eval'):\n",
    "    correct = tf.nn.in_top_k(logits, y, 1)\n",
    "    accuracy = tf.reduce_mean(tf.cast(correct, np.float32))"
   ]
  },
  {
   "cell_type": "code",
   "execution_count": 73,
   "metadata": {},
   "outputs": [],
   "source": [
    "flipped_imgs_784 = flipped_imgs.reshape((-1,784))"
   ]
  },
  {
   "cell_type": "code",
   "execution_count": 76,
   "metadata": {},
   "outputs": [],
   "source": [
    "final_x = np.concatenate((x_train,flipped_imgs_784,x_train_shift),axis=0)"
   ]
  },
  {
   "cell_type": "code",
   "execution_count": 77,
   "metadata": {},
   "outputs": [
    {
     "data": {
      "text/plain": [
       "(360000, 784)"
      ]
     },
     "execution_count": 77,
     "metadata": {},
     "output_type": "execute_result"
    }
   ],
   "source": [
    "final_x.shape"
   ]
  },
  {
   "cell_type": "code",
   "execution_count": 78,
   "metadata": {},
   "outputs": [],
   "source": [
    "final_y = np.concatenate((y_train,flipped_labels,y_train_augmented),axis=0)"
   ]
  },
  {
   "cell_type": "code",
   "execution_count": 79,
   "metadata": {},
   "outputs": [
    {
     "data": {
      "text/plain": [
       "(360000,)"
      ]
     },
     "execution_count": 79,
     "metadata": {},
     "output_type": "execute_result"
    }
   ],
   "source": [
    "final_y.shape"
   ]
  },
  {
   "cell_type": "code",
   "execution_count": 86,
   "metadata": {},
   "outputs": [
    {
     "name": "stdout",
     "output_type": "stream",
     "text": [
      "0 Batch Accuracy = 0.9765625 Validation Accuracy = 0.9868\n",
      "1 Batch Accuracy = 0.96875 Validation Accuracy = 0.9915\n",
      "2 Batch Accuracy = 0.9765625 Validation Accuracy = 0.9903\n",
      "3 Batch Accuracy = 1.0 Validation Accuracy = 0.9915\n",
      "4 Batch Accuracy = 0.9765625 Validation Accuracy = 0.993\n",
      "5 Batch Accuracy = 0.984375 Validation Accuracy = 0.9928\n",
      "6 Batch Accuracy = 0.9921875 Validation Accuracy = 0.993\n",
      "7 Batch Accuracy = 0.9921875 Validation Accuracy = 0.9938\n",
      "8 Batch Accuracy = 1.0 Validation Accuracy = 0.9936\n",
      "9 Batch Accuracy = 0.9765625 Validation Accuracy = 0.9933\n",
      "10 Batch Accuracy = 0.9921875 Validation Accuracy = 0.9937\n",
      "11 Batch Accuracy = 0.9921875 Validation Accuracy = 0.9939\n",
      "12 Batch Accuracy = 0.9921875 Validation Accuracy = 0.9942\n",
      "13 Batch Accuracy = 1.0 Validation Accuracy = 0.9935\n",
      "14 Batch Accuracy = 0.9921875 Validation Accuracy = 0.9943\n",
      "15 Batch Accuracy = 1.0 Validation Accuracy = 0.9932\n",
      "16 Batch Accuracy = 1.0 Validation Accuracy = 0.9938\n",
      "17 Batch Accuracy = 1.0 Validation Accuracy = 0.9951\n",
      "18 Batch Accuracy = 1.0 Validation Accuracy = 0.9936\n",
      "19 Batch Accuracy = 0.9921875 Validation Accuracy = 0.9938\n",
      "20 Batch Accuracy = 0.984375 Validation Accuracy = 0.9951\n",
      "21 Batch Accuracy = 1.0 Validation Accuracy = 0.9933\n",
      "22 Batch Accuracy = 0.9921875 Validation Accuracy = 0.9941\n",
      "23 Batch Accuracy = 1.0 Validation Accuracy = 0.9942\n",
      "24 Batch Accuracy = 0.984375 Validation Accuracy = 0.9945\n",
      "25 Batch Accuracy = 0.984375 Validation Accuracy = 0.9939\n",
      "26 Batch Accuracy = 0.984375 Validation Accuracy = 0.9944\n",
      "27 Batch Accuracy = 0.9765625 Validation Accuracy = 0.9947\n",
      "28 Batch Accuracy = 0.9921875 Validation Accuracy = 0.9932\n",
      "29 Batch Accuracy = 1.0 Validation Accuracy = 0.9923\n",
      "Elapsed Time:  340.6246550520261 Minutes\n"
     ]
    }
   ],
   "source": [
    "batch_size = 128\n",
    "\n",
    "out = []\n",
    "\n",
    "start_time = time.time()\n",
    "\n",
    "extra_update_ops = tf.get_collection(tf.GraphKeys.UPDATE_OPS)\n",
    "with tf.Session() as sess:\n",
    "    sess.run(tf.global_variables_initializer())\n",
    "    out = []\n",
    "    for epoch in range(30):\n",
    "        for x_batch, y_batch in shuffle_batch(final_x, final_y, batch_size):\n",
    "            sess.run([training_op, extra_update_ops], feed_dict = {X: x_batch.reshape((-1,28,28)), y:  y_batch})\n",
    "        batch_acc = accuracy.eval(feed_dict = {X: x_batch.reshape((-1,28,28)), y:  y_batch})\n",
    "        val_acc = accuracy.eval(feed_dict = {bn1_train: False, bn2_train: False,\n",
    "                                             drop1: False, drop2: False,\n",
    "                                             X: x_test.reshape((-1,28,28)), y:  y_test})\n",
    "        print(epoch, \"Batch Accuracy =\", batch_acc, \"Validation Accuracy =\", val_acc)\n",
    "        outputs = sess.run(logits, feed_dict = {bn1_train: False, bn2_train: False,\n",
    "                                                drop1: False, drop2: False,\n",
    "                                                X: x_test.reshape((-1,28,28))})\n",
    "        out.append(outputs)\n",
    "        \n",
    "print(\"Elapsed Time: \", (time.time() - start_time)/60., \"Minutes\")"
   ]
  },
  {
   "cell_type": "code",
   "execution_count": 88,
   "metadata": {},
   "outputs": [
    {
     "data": {
      "text/plain": [
       "(10000, 10)"
      ]
     },
     "execution_count": 88,
     "metadata": {},
     "output_type": "execute_result"
    }
   ],
   "source": [
    "outputs.shape"
   ]
  },
  {
   "cell_type": "code",
   "execution_count": 89,
   "metadata": {},
   "outputs": [
    {
     "data": {
      "text/plain": [
       "array([[-1.7456344 , -1.7364352 , 21.808788  , -0.7079118 , -1.7580441 ,\n",
       "         2.0966947 ,  1.3200657 ,  2.8535185 , -1.7098682 , -1.7555516 ],\n",
       "       [-1.7564293 ,  0.32909518, -1.5901555 , -0.99869424,  7.754143  ,\n",
       "         1.9115486 , -1.7555888 ,  4.7840185 ,  4.0362124 , 16.540876  ]],\n",
       "      dtype=float32)"
      ]
     },
     "execution_count": 89,
     "metadata": {},
     "output_type": "execute_result"
    }
   ],
   "source": [
    "outputs[:2]"
   ]
  },
  {
   "cell_type": "code",
   "execution_count": 90,
   "metadata": {},
   "outputs": [],
   "source": [
    "y_hat = np.argmax(outputs, axis=1)"
   ]
  },
  {
   "cell_type": "code",
   "execution_count": 92,
   "metadata": {},
   "outputs": [
    {
     "data": {
      "text/plain": [
       "(10000,)"
      ]
     },
     "execution_count": 92,
     "metadata": {},
     "output_type": "execute_result"
    }
   ],
   "source": [
    "y_hat.shape"
   ]
  },
  {
   "cell_type": "code",
   "execution_count": 93,
   "metadata": {},
   "outputs": [
    {
     "data": {
      "text/plain": [
       "array([2, 9])"
      ]
     },
     "execution_count": 93,
     "metadata": {},
     "output_type": "execute_result"
    }
   ],
   "source": [
    "y_hat[:2]"
   ]
  },
  {
   "cell_type": "code",
   "execution_count": 97,
   "metadata": {},
   "outputs": [
    {
     "data": {
      "text/plain": [
       "array([2., 9.])"
      ]
     },
     "execution_count": 97,
     "metadata": {},
     "output_type": "execute_result"
    }
   ],
   "source": [
    "y_test[:2]"
   ]
  },
  {
   "cell_type": "code",
   "execution_count": 94,
   "metadata": {},
   "outputs": [],
   "source": [
    "from sklearn.metrics import accuracy_score"
   ]
  },
  {
   "cell_type": "code",
   "execution_count": 96,
   "metadata": {},
   "outputs": [
    {
     "data": {
      "text/plain": [
       "0.9923"
      ]
     },
     "execution_count": 96,
     "metadata": {},
     "output_type": "execute_result"
    }
   ],
   "source": [
    "accuracy_score(y_test, y_hat)"
   ]
  }
 ],
 "metadata": {
  "kernelspec": {
   "display_name": "Python 3",
   "language": "python",
   "name": "python3"
  },
  "language_info": {
   "codemirror_mode": {
    "name": "ipython",
    "version": 3
   },
   "file_extension": ".py",
   "mimetype": "text/x-python",
   "name": "python",
   "nbconvert_exporter": "python",
   "pygments_lexer": "ipython3",
   "version": "3.6.6"
  }
 },
 "nbformat": 4,
 "nbformat_minor": 2
}
