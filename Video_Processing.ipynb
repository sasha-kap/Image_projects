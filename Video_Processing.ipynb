{
 "cells": [
  {
   "cell_type": "code",
   "execution_count": 1,
   "metadata": {},
   "outputs": [
    {
     "name": "stdout",
     "output_type": "stream",
     "text": [
      "3.4.2\n"
     ]
    }
   ],
   "source": [
    "import cv2\n",
    "print(cv2.__version__)"
   ]
  },
  {
   "cell_type": "code",
   "execution_count": 2,
   "metadata": {},
   "outputs": [],
   "source": [
    "import os\n",
    "import numpy as np"
   ]
  },
  {
   "cell_type": "markdown",
   "metadata": {},
   "source": [
    "### Split MP4 Video into Individual Frames"
   ]
  },
  {
   "cell_type": "code",
   "execution_count": 3,
   "metadata": {},
   "outputs": [],
   "source": [
    "try:\n",
    "    if not os.path.exists('frames'):\n",
    "        os.makedirs('frames')\n",
    "except OSError:\n",
    "    print('Error: Creating directory of frames')"
   ]
  },
  {
   "cell_type": "code",
   "execution_count": 4,
   "metadata": {},
   "outputs": [],
   "source": [
    "vidcap = cv2.VideoCapture('Splitting_Video_into_Images.mp4')\n",
    "frame_no = 0\n",
    "success, image = vidcap.read()\n",
    "while success:\n",
    "    name = './frames/frame' + str(frame_no) + '.jpg'\n",
    "    cv2.imwrite(name, image)\n",
    "    success, image = vidcap.read()\n",
    "    frame_no += 1\n",
    "vidcap.release() #closes video file or capturing device"
   ]
  },
  {
   "cell_type": "markdown",
   "metadata": {},
   "source": [
    "### Split MP4 Video into Individual Frames (1 Frame per Second)"
   ]
  },
  {
   "cell_type": "code",
   "execution_count": 34,
   "metadata": {},
   "outputs": [],
   "source": [
    "try:\n",
    "    if not os.path.exists('frames_1ps'):\n",
    "        os.makedirs('frames_1ps')\n",
    "except OSError:\n",
    "    print('Error: Creating directory of frames')"
   ]
  },
  {
   "cell_type": "code",
   "execution_count": 35,
   "metadata": {},
   "outputs": [],
   "source": [
    "vidcap = cv2.VideoCapture('Splitting_Video_into_Images.mp4')\n",
    "fps = int(vidcap.get(cv2.CAP_PROP_FPS))\n",
    "frame_no = 0\n",
    "success, image = vidcap.read()\n",
    "while success:\n",
    "    if frame_no % fps == 0:\n",
    "        name = './frames_1ps/frame' + str(frame_no // fps) + '.jpg'\n",
    "        cv2.imwrite(name, image)\n",
    "    success, image = vidcap.read()\n",
    "    frame_no += 1\n",
    "vidcap.release() #closes video file or capturing device"
   ]
  },
  {
   "cell_type": "code",
   "execution_count": null,
   "metadata": {},
   "outputs": [],
   "source": []
  }
 ],
 "metadata": {
  "kernelspec": {
   "display_name": "Python 3",
   "language": "python",
   "name": "python3"
  },
  "language_info": {
   "codemirror_mode": {
    "name": "ipython",
    "version": 3
   },
   "file_extension": ".py",
   "mimetype": "text/x-python",
   "name": "python",
   "nbconvert_exporter": "python",
   "pygments_lexer": "ipython3",
   "version": "3.6.6"
  }
 },
 "nbformat": 4,
 "nbformat_minor": 2
}
