{
 "cells": [
  {
   "cell_type": "code",
   "execution_count": 1,
   "metadata": {},
   "outputs": [
    {
     "name": "stdout",
     "output_type": "stream",
     "text": [
      "3.4.2\n"
     ]
    }
   ],
   "source": [
    "import cv2\n",
    "print(cv2.__version__)"
   ]
  },
  {
   "cell_type": "code",
   "execution_count": 2,
   "metadata": {},
   "outputs": [],
   "source": [
    "import os\n",
    "import numpy as np"
   ]
  },
  {
   "cell_type": "code",
   "execution_count": 4,
   "metadata": {},
   "outputs": [],
   "source": [
    "import matplotlib.pyplot as plt\n",
    "%matplotlib inline"
   ]
  },
  {
   "cell_type": "markdown",
   "metadata": {},
   "source": [
    "### Split MP4 Video into Individual Frames"
   ]
  },
  {
   "cell_type": "code",
   "execution_count": 3,
   "metadata": {},
   "outputs": [],
   "source": [
    "try:\n",
    "    if not os.path.exists('frames'):\n",
    "        os.makedirs('frames')\n",
    "except OSError:\n",
    "    print('Error: Creating directory of frames')"
   ]
  },
  {
   "cell_type": "code",
   "execution_count": 4,
   "metadata": {},
   "outputs": [],
   "source": [
    "vidcap = cv2.VideoCapture('Splitting_Video_into_Images.mp4')\n",
    "frame_no = 0\n",
    "success, image = vidcap.read()\n",
    "while success:\n",
    "    name = './frames/frame' + str(frame_no) + '.jpg'\n",
    "    cv2.imwrite(name, image)\n",
    "    success, image = vidcap.read()\n",
    "    frame_no += 1\n",
    "vidcap.release() #closes video file or capturing device"
   ]
  },
  {
   "cell_type": "markdown",
   "metadata": {},
   "source": [
    "### Split MP4 Video into Individual Frames (1 Frame per Second)"
   ]
  },
  {
   "cell_type": "code",
   "execution_count": 34,
   "metadata": {},
   "outputs": [],
   "source": [
    "try:\n",
    "    if not os.path.exists('frames_1ps'):\n",
    "        os.makedirs('frames_1ps')\n",
    "except OSError:\n",
    "    print('Error: Creating directory of frames')"
   ]
  },
  {
   "cell_type": "code",
   "execution_count": 35,
   "metadata": {},
   "outputs": [],
   "source": [
    "vidcap = cv2.VideoCapture('Splitting_Video_into_Images.mp4')\n",
    "fps = int(vidcap.get(cv2.CAP_PROP_FPS))\n",
    "frame_no = 0\n",
    "success, image = vidcap.read()\n",
    "while success:\n",
    "    if frame_no % fps == 0:\n",
    "        name = './frames_1ps/frame' + str(frame_no // fps) + '.jpg'\n",
    "        cv2.imwrite(name, image)\n",
    "    success, image = vidcap.read()\n",
    "    frame_no += 1\n",
    "vidcap.release() #closes video file or capturing device"
   ]
  },
  {
   "cell_type": "markdown",
   "metadata": {},
   "source": [
    "### Split MP4 Video into Individual Frames (1 Frame per Second & Limited Time Frame)"
   ]
  },
  {
   "cell_type": "code",
   "execution_count": 36,
   "metadata": {},
   "outputs": [],
   "source": [
    "try:\n",
    "    if not os.path.exists('frames_lmtd'):\n",
    "        os.makedirs('frames_lmtd')\n",
    "except OSError:\n",
    "    print('Error: Creating directory of frames')"
   ]
  },
  {
   "cell_type": "code",
   "execution_count": 40,
   "metadata": {},
   "outputs": [],
   "source": [
    "vidcap = cv2.VideoCapture('Splitting_Video_into_Images.mp4')\n",
    "fps = int(vidcap.get(cv2.CAP_PROP_FPS))\n",
    "frame_no = 0\n",
    "stop_time_ms = 42000\n",
    "success, image = vidcap.read()\n",
    "while success and vidcap.get(cv2.CAP_PROP_POS_MSEC) <= stop_time_ms:\n",
    "    if frame_no % fps == 0:\n",
    "        name = './frames_lmtd/frame' + str(frame_no // fps) + '.jpg'\n",
    "        cv2.imwrite(name, image)\n",
    "    success, image = vidcap.read()\n",
    "    frame_no += 1\n",
    "vidcap.release() #closes video file or capturing device"
   ]
  },
  {
   "cell_type": "markdown",
   "metadata": {},
   "source": [
    "### Crop and OCR Individual Frames"
   ]
  },
  {
   "cell_type": "code",
   "execution_count": 81,
   "metadata": {},
   "outputs": [],
   "source": [
    "from PIL import Image, ImageOps\n",
    "import pytesseract"
   ]
  },
  {
   "cell_type": "code",
   "execution_count": 45,
   "metadata": {},
   "outputs": [
    {
     "name": "stdout",
     "output_type": "stream",
     "text": [
      "4.0.0\n"
     ]
    }
   ],
   "source": [
    "print(pytesseract.get_tesseract_version())"
   ]
  },
  {
   "cell_type": "code",
   "execution_count": 82,
   "metadata": {},
   "outputs": [],
   "source": [
    "def crop_box(input_image):\n",
    "    crop_width = 290\n",
    "    crop_height = 220\n",
    "    width, height = input_image.size\n",
    "    #box coordinates: x, y of upper left corner, then x, y of lower right corner\n",
    "    #0, 0 coordinates are upper left corner\n",
    "    box = 0, height - crop_height, crop_width, height\n",
    "    return input_image.crop(box)"
   ]
  },
  {
   "cell_type": "code",
   "execution_count": 90,
   "metadata": {},
   "outputs": [],
   "source": [
    "#CROP AND SAVE BOTTOM-LEFT BOX OF EACH IMAGE\n",
    "try:\n",
    "    if not os.path.exists('loc_box'):\n",
    "        os.makedirs('loc_box')\n",
    "except OSError:\n",
    "    print('Error: Creating directory of location boxes')\n",
    "    \n",
    "indir = './frames_lmtd/'\n",
    "for root, dirs, filenames in os.walk(indir):\n",
    "    for filename in filenames:\n",
    "        im = Image.open(indir + filename)\n",
    "        region = crop_box(im)\n",
    "        dir_path = './loc_box'\n",
    "        region.save(f'{dir_path}/{filename}','JPEG')"
   ]
  },
  {
   "cell_type": "code",
   "execution_count": 54,
   "metadata": {},
   "outputs": [
    {
     "name": "stdout",
     "output_type": "stream",
     "text": [
      "###################frame46.jpg###################\n",
      "DISTRICT OF COLUMBIA\n",
      "\n",
      "ELEVATION: 26 M\n",
      "HEADING: 127° (T)\n",
      "PIE KEL]\n",
      "TIME: 5:54:27 AM\n",
      "###################frame47.jpg###################\n",
      "DISTRICT OF COLUMBIA\n",
      "\n",
      "PBZ le) arson\n",
      "HEADING: 127° (T)\n",
      "DATE: 5/3/18\n",
      "TIME: 5:54:31 AM\n",
      "###################frame45.jpg###################\n",
      "DISTRICT OF COLUMBIA\n",
      "\n",
      "ELEVATION: 26 M\n",
      "HEADING: 127° (T)\n",
      "DATE: 5/3/18\n",
      "TIME: 5:54:23 AM\n",
      "###################frame44.jpg###################\n",
      "DISTRICT OF COLUMBIA\n",
      "\n",
      "ELEVATION: 26 M\n",
      "HEADING: 130° (T)\n",
      "DATE: 5/3/18\n",
      "TIME: 5:54:19 AM\n",
      "###################frame40.jpg###################\n",
      "DISTRICT OF COLUMBIA\n",
      "\n",
      "ELEVATION: 25 M\n",
      "HEADING: 130° (T)\n",
      "PoE EL]\n",
      "TIME: 5:54:03 AM\n",
      "###################frame41.jpg###################\n",
      "DISTRICT OF COLUMBIA\n",
      "\n",
      "PR le) ar\n",
      "HEADING: 131° (T)\n",
      "DATE: 5/3/18\n",
      "TIME: 5:54:07 AM\n",
      "###################frame43.jpg###################\n",
      "DISTRICT OF COLUMBIA\n",
      "\n",
      "ELEVATION: 26 M\n",
      "HEADING: 131° (T)\n",
      "DATE: 5/3/18\n",
      "TIME: 5:54:15 AM\n",
      "###################frame42.jpg###################\n",
      "DISTRICT OF COLUMBIA\n",
      "\n",
      "ELEVATION: 25 M\n",
      "HEADING: 131° (T)\n",
      "PISA]\n",
      "TIME: 5:54:11 AM\n",
      "###################frame19.jpg###################\n",
      "\n",
      "###################frame25.jpg###################\n",
      "DISTRICT OF COLUMBIA\n",
      "\n",
      "ELEVATION: 22 M\n",
      "HEADING: 125° (T)\n",
      "Pe ISEK EL]\n",
      "TIME: 5:53:02 AM\n",
      "###################frame31.jpg###################\n",
      "__ DISTRICT OF COLUMBIA\n",
      "\n",
      "PSN ro a\n",
      "fa). 8)/ chee a)\n",
      "DATE: 5/3/18\n",
      "TIME: 5:53:27 AM\n",
      "###################frame30.jpg###################\n",
      "DISTRICT OF COLUMBIA\n",
      "\n",
      "ELEVATION: 23 M\n",
      "HEADING: 123° (T)\n",
      "DATE: 5/3/18\n",
      "TIME: 5:53:23 AM\n",
      "###################frame24.jpg###################\n",
      "DISTRICT OF COLUMBIA\n",
      "\n",
      "ELEVATION: 20 M\n",
      "HEADING: 125° (T)\n",
      "PIER EL]\n",
      "TIME: 5:52:58 AM\n",
      "###################frame18.jpg###################\n",
      "\n",
      "###################frame32.jpg###################\n",
      "DISTRICT OF COLUMBIA\n",
      "\n",
      "ELEVATION: 24M\n",
      "HEADING: 125° (T)\n",
      "PoE KEL]\n",
      "TIME: 5:53:31 AM\n",
      "###################frame26.jpg###################\n",
      "DISTRICT OF COLUMBIA\n",
      "\n",
      "ELEVATION: 23 M\n",
      "HEADING: 125° (T)\n",
      "PIER EL]\n",
      "TIME: 5:53:06 AM\n",
      "###################frame27.jpg###################\n",
      "DISTRICT OF COLUMBIA\n",
      "\n",
      "ELEVATION: 23 M\n",
      "HEADING: 124° (T)\n",
      "PIE KEL]\n",
      "\n",
      "Ur) eX a\n",
      "###################frame33.jpg###################\n",
      "DISTRICT OF COLUMBIA\n",
      "\n",
      "ELEVATION: 23 M\n",
      "HEADING: 128° (T)\n",
      "DATE: 5/3/18\n",
      "TIME: 5:53:35 AM\n",
      "###################frame37.jpg###################\n",
      "DISTRICT OF COLUMBIA\n",
      "\n",
      "ELEVATION: 24M\n",
      "HEADING: 130° (T)\n",
      "DATE: 5/3/18\n",
      "TIME: 5:53:51 AM\n",
      "###################frame23.jpg###################\n",
      "DISTRICT OF COLUMBIA\n",
      "\n",
      "ELEVATION: 18 M\n",
      "HEADING: 126° (T)\n",
      "PIER EL]\n",
      "TIME: 5:52:54 AM\n",
      "###################frame22.jpg###################\n",
      "DISTRICT OF COLUMBIA\n",
      "\n",
      "ELEVATION: 17M\n",
      "HEADING: 125° (T)\n",
      "DATE: 5/3/18\n",
      "Seer]\n",
      "###################frame36.jpg###################\n",
      "DISTRICT OF COLUMBIA\n",
      "\n",
      "ELEVATION: 24M\n",
      "HEADING: 131° (T)\n",
      "DATE: 5/3/18\n",
      "TIME: 5:53:47 AM\n",
      "###################frame20.jpg###################\n",
      "\n",
      "###################frame34.jpg###################\n",
      "DISTRICT OF COLUMBIA\n",
      "\n",
      "ELEVATION: 23 M\n",
      "HEADING: 128° (T)\n",
      "DATE: 5/3/18\n",
      "TIME: 5:53:39 AM\n",
      "###################frame9.jpg###################\n",
      "\n",
      "###################frame8.jpg###################\n",
      "\n",
      "###################frame35.jpg###################\n",
      "DISTRICT OF COLUMBIA\n",
      "\n",
      "ELEVATION: 24M\n",
      "HEADING: 128° (T)\n",
      "PoE EL]\n",
      "Sse]\n",
      "###################frame21.jpg###################\n",
      "DISTRICT OF COLUMBIA\n",
      "\n",
      "ELEVATION: 16 M\n",
      "fa) Cie a)\n",
      "Pee EL:]\n",
      "seo serae eT]\n",
      "###################frame38.jpg###################\n",
      "DISTRICT OF COLUMBIA\n",
      "\n",
      "ELEVATION: 24M\n",
      "HEADING: 131° (T)\n",
      "PoE AL)\n",
      "TIME: 5:53:55 AM\n",
      "###################frame5.jpg###################\n",
      "\n",
      "###################frame10.jpg###################\n",
      "\n",
      "###################frame11.jpg###################\n",
      "\n",
      "###################frame4.jpg###################\n",
      "\n",
      "###################frame39.jpg###################\n",
      "DISTRICT OF COLUMBIA\n",
      "\n",
      "ELEVATION: 24M\n",
      "HEADING: 131° (T)\n",
      "DATE: 5/3/18\n",
      "TIME: 5:53:59 AM\n",
      "###################frame6.jpg###################\n",
      "\n",
      "###################frame13.jpg###################\n",
      "\n",
      "###################frame12.jpg###################\n",
      "\n",
      "###################frame7.jpg###################\n",
      "\n",
      "###################frame3.jpg###################\n",
      "\n",
      "###################frame16.jpg###################\n",
      "\n",
      "###################frame17.jpg###################\n",
      "\n",
      "###################frame2.jpg###################\n",
      "\n",
      "###################frame0.jpg###################\n",
      "\n",
      "###################frame15.jpg###################\n",
      "\n",
      "###################frame29.jpg###################\n",
      "DISTRICT OF COLUMBIA\n",
      "\n",
      "ELEVATION: 23 M\n",
      "HEADING: 124° (T)\n",
      "PIER EL]\n",
      "TIME: 5:53:19 AM\n",
      "###################frame28.jpg###################\n",
      "DISTRICT OF COLUMBIA\n",
      "\n",
      "ELEVATION: 23 M\n",
      "HEADING: 124° (T)\n",
      "PoE KEL]\n",
      "TIME: 5:53:15 AM\n",
      "###################frame14.jpg###################\n",
      "\n",
      "###################frame1.jpg###################\n",
      "\n",
      "###################frame49.jpg###################\n",
      "DISTRICT OF COLUMBIA\n",
      "\n",
      "PRAY le) arse\n",
      "HEADING: 143° (T)\n",
      "PoE KEL)\n",
      "TIME: 5:54:39 AM\n",
      "###################frame48.jpg###################\n",
      "DISTRICT OF COLUMBIA\n",
      "\n",
      "PRAY le) arse\n",
      "HEADING: 127° (T)\n",
      "PIER EL]\n",
      "TIME: 5:54:35 AM\n"
     ]
    }
   ],
   "source": [
    "indir = './frames_lmtd/'\n",
    "for root, dirs, filenames in os.walk(indir):\n",
    "    for filename in filenames:\n",
    "        print('###################' + filename + '###################')\n",
    "        im = Image.open(indir + filename)\n",
    "        region = crop_box(im)\n",
    "        text = pytesseract.image_to_string(region, lang='eng', config='--oem 1 --psm 1') #oem 1 means Neural Nets LSTM engine\n",
    "        print(text)"
   ]
  },
  {
   "cell_type": "code",
   "execution_count": 86,
   "metadata": {},
   "outputs": [
    {
     "name": "stdout",
     "output_type": "stream",
     "text": [
      "###################frame46.jpg###################\n",
      "DISTRICT OF COLUMBIA\n",
      "\n",
      "ELEVATION: 26 M\n",
      "\n",
      "HEADING: 127° (T)\n",
      "PIE KEL]\n",
      "TIME: 5:54:27 AM\n",
      "###################frame47.jpg###################\n",
      "DISTRICT OF COLUMBIA\n",
      "\n",
      "PBZ le) arson\n",
      "\n",
      "HEADING: 127° (T)\n",
      "DATE: 5/3/18\n",
      "TIME: 5:54:31 AM\n",
      "###################frame45.jpg###################\n",
      "DISTRICT OF COLUMBIA\n",
      "\n",
      "ELEVATION: 26 M\n",
      "\n",
      "HEADING: 127° (T)\n",
      "DATE: 5/3/18\n",
      "TIME: 5:54:23 AM\n",
      "###################frame44.jpg###################\n",
      "DISTRICT OF COLUMBIA\n",
      "\n",
      "ELEVATION: 26 M\n",
      "\n",
      "HEADING: 130° (T)\n",
      "DATE: 5/3/18\n",
      "TIME: 5:54:19 AM\n",
      "###################frame40.jpg###################\n",
      "DISTRICT OF COLUMBIA\n",
      "\n",
      "ELEVATION: 25 M\n",
      "\n",
      "HEADING: 130° (T)\n",
      "PoE EL]\n",
      "TIME: 5:54:03 AM\n",
      "###################frame41.jpg###################\n",
      "DISTRICT OF COLUMBIA\n",
      "\n",
      "PR le) ar\n",
      "\n",
      "HEADING: 131° (T)\n",
      "DATE: 5/3/18\n",
      "TIME: 5:54:07 AM\n",
      "###################frame43.jpg###################\n",
      "DISTRICT OF COLUMBIA\n",
      "\n",
      "ELEVATION: 26 M\n",
      "\n",
      "HEADING: 131° (T)\n",
      "DATE: 5/3/18\n",
      "TIME: 5:54:15 AM\n",
      "###################frame42.jpg###################\n",
      "DISTRICT OF COLUMBIA\n",
      "\n",
      "ELEVATION: 25 M\n",
      "\n",
      "HEADING: 131° (T)\n",
      "PISA]\n",
      "TIME: 5:54:11 AM\n",
      "###################frame19.jpg###################\n",
      "\n",
      "###################frame25.jpg###################\n",
      "DISTRICT OF COLUMBIA\n",
      "\n",
      "ELEVATION: 22 M\n",
      "\n",
      "HEADING: 125° (T)\n",
      "Pe ISEK EL]\n",
      "TIME: 5:53:02 AM\n",
      "###################frame31.jpg###################\n",
      "DISTRICT OF COLUMBIA\n",
      "\n",
      "ELEVATION: 24M\n",
      "HEADING: 124° (T)\n",
      "DATE: 5/3/18\n",
      "TIME: 5:53:27 AM\n",
      "###################frame30.jpg###################\n",
      "DISTRICT OF COLUMBIA\n",
      "\n",
      "ELEVATION: 23 M\n",
      "\n",
      "HEADING: 123° (T)\n",
      "DATE: 5/3/18\n",
      "TIME: 5:53:23 AM\n",
      "###################frame24.jpg###################\n",
      "DISTRICT OF COLUMBIA\n",
      "\n",
      "ELEVATION: 20 M\n",
      "\n",
      "HEADING: 125° (T)\n",
      "PIER EL]\n",
      "TIME: 5:52:58 AM\n",
      "###################frame18.jpg###################\n",
      "\n",
      "###################frame32.jpg###################\n",
      "DISTRICT OF COLUMBIA\n",
      "\n",
      "ELEVATION: 24M\n",
      "\n",
      "HEADING: 125° (T)\n",
      "PoE KEL]\n",
      "TIME: 5:53:31 AM\n",
      "###################frame26.jpg###################\n",
      "DISTRICT OF COLUMBIA\n",
      "\n",
      "ELEVATION: 23 M\n",
      "\n",
      "HEADING: 125° (T)\n",
      "PIER EL]\n",
      "TIME: 5:53:06 AM\n",
      "###################frame27.jpg###################\n",
      "DISTRICT OF COLUMBIA\n",
      "\n",
      "ELEVATION: 23 M\n",
      "\n",
      "HEADING: 124° (T)\n",
      "PIE KEL]\n",
      "Ur) eX a\n",
      "###################frame33.jpg###################\n",
      "DISTRICT OF COLUMBIA\n",
      "\n",
      "ELEVATION: 23 M\n",
      "\n",
      "HEADING: 128° (T)\n",
      "DATE: 5/3/18\n",
      "TIME: 5:53:35 AM\n",
      "###################frame37.jpg###################\n",
      "DISTRICT OF COLUMBIA\n",
      "\n",
      "ELEVATION: 24M\n",
      "\n",
      "HEADING: 130° (T)\n",
      "DATE: 5/3/18\n",
      "TIME: 5:53:51 AM\n",
      "###################frame23.jpg###################\n",
      "DISTRICT OF COLUMBIA\n",
      "\n",
      "ELEVATION: 18 M\n",
      "\n",
      "HEADING: 126° (T)\n",
      "PIER EL]\n",
      "TIME: 5:52:54 AM\n",
      "###################frame22.jpg###################\n",
      "DISTRICT OF COLUMBIA\n",
      "\n",
      "ELEVATION: 17M\n",
      "\n",
      "HEADING: 125° (T)\n",
      "DATE: 5/3/18\n",
      "Seer]\n",
      "###################frame36.jpg###################\n",
      "DISTRICT OF COLUMBIA\n",
      "\n",
      "ELEVATION: 24M\n",
      "\n",
      "HEADING: 131° (T)\n",
      "DATE: 5/3/18\n",
      "TIME: 5:53:47 AM\n",
      "###################frame20.jpg###################\n",
      "\n",
      "###################frame34.jpg###################\n",
      "DISTRICT OF COLUMBIA\n",
      "\n",
      "ELEVATION: 23 M\n",
      "\n",
      "HEADING: 128° (T)\n",
      "DATE: 5/3/18\n",
      "TIME: 5:53:39 AM\n",
      "###################frame9.jpg###################\n",
      "\n",
      "###################frame8.jpg###################\n",
      "\n",
      "###################frame35.jpg###################\n",
      "DISTRICT OF COLUMBIA\n",
      "\n",
      "ELEVATION: 24M\n",
      "\n",
      "HEADING: 128° (T)\n",
      "PoE EL]\n",
      "Sse]\n",
      "###################frame21.jpg###################\n",
      "DISTRICT OF COLUMBIA\n",
      "\n",
      "ELEVATION: 16 M\n",
      "\n",
      "HEADING: 124° (T)\n",
      "PoE EL:\n",
      "seo serae eT]\n",
      "###################frame38.jpg###################\n",
      "DISTRICT OF COLUMBIA\n",
      "\n",
      "ELEVATION: 24M\n",
      "\n",
      "HEADING: 131° (T)\n",
      "PoE AL)\n",
      "TIME: 5:53:55 AM\n",
      "###################frame5.jpg###################\n",
      "\n",
      "###################frame10.jpg###################\n",
      "\n",
      "###################frame11.jpg###################\n",
      "\n",
      "###################frame4.jpg###################\n",
      "\n",
      "###################frame39.jpg###################\n",
      "DISTRICT OF COLUMBIA\n",
      "\n",
      "ELEVATION: 24M\n",
      "\n",
      "HEADING: 131° (T)\n",
      "DATE: 5/3/18\n",
      "TIME: 5:53:59 AM\n",
      "###################frame6.jpg###################\n",
      "\n",
      "###################frame13.jpg###################\n",
      "\n",
      "###################frame12.jpg###################\n",
      "\n",
      "###################frame7.jpg###################\n",
      "\n",
      "###################frame3.jpg###################\n",
      "\n",
      "###################frame16.jpg###################\n",
      "\n",
      "###################frame17.jpg###################\n",
      "\n",
      "###################frame2.jpg###################\n",
      "\n",
      "###################frame0.jpg###################\n",
      "\n",
      "###################frame15.jpg###################\n",
      "\n",
      "###################frame29.jpg###################\n",
      "DISTRICT OF COLUMBIA\n",
      "\n",
      "ELEVATION: 23 M\n",
      "\n",
      "HEADING: 124° (T)\n",
      "PIER EL]\n",
      "TIME: 5:53:19 AM\n",
      "###################frame28.jpg###################\n",
      "DISTRICT OF COLUMBIA\n",
      "\n",
      "ELEVATION: 23 M\n",
      "\n",
      "HEADING: 124° (T)\n",
      "PoE KEL]\n",
      "TIME: 5:53:15 AM\n",
      "###################frame14.jpg###################\n",
      "\n",
      "###################frame1.jpg###################\n",
      "\n",
      "###################frame49.jpg###################\n",
      "DISTRICT OF COLUMBIA\n",
      "\n",
      "PRAY le) arse\n",
      "\n",
      "HEADING: 143° (T)\n",
      "PoE KEL)\n",
      "TIME: 5:54:39 AM\n",
      "###################frame48.jpg###################\n",
      "DISTRICT OF COLUMBIA\n",
      "\n",
      "PRAY le) arse\n",
      "\n",
      "HEADING: 127° (T)\n",
      "PIER EL]\n",
      "TIME: 5:54:35 AM\n"
     ]
    }
   ],
   "source": [
    "#SAME BUT WITH BORDER ADDED TO IMAGE\n",
    "indir = './frames_lmtd/'\n",
    "for root, dirs, filenames in os.walk(indir):\n",
    "    for filename in filenames:\n",
    "        print('###################' + filename + '###################')\n",
    "        im = Image.open(indir + filename)\n",
    "        region = crop_box(im)\n",
    "        new_im = ImageOps.expand(region, border=10, fill=(255,255,255))\n",
    "        #plt.imshow(new_im)\n",
    "        #plt.show()\n",
    "        text = pytesseract.image_to_string(new_im, lang='eng', config='--oem 1 --psm 1') #oem 1 means Neural Nets LSTM engine\n",
    "        print(text)"
   ]
  },
  {
   "cell_type": "markdown",
   "metadata": {},
   "source": [
    "### Run OCR on Italics Separately"
   ]
  },
  {
   "cell_type": "code",
   "execution_count": 55,
   "metadata": {},
   "outputs": [],
   "source": [
    "def crop_box_ital(input_image):\n",
    "    crop_width = 290\n",
    "    crop_height = 141\n",
    "    width, height = input_image.size\n",
    "    #box coordinates: x, y of upper left corner, then x, y of lower right corner\n",
    "    #0, 0 coordinates are upper left corner\n",
    "    box = 0, height - crop_height, crop_width, height\n",
    "    return input_image.crop(box)"
   ]
  },
  {
   "cell_type": "code",
   "execution_count": 56,
   "metadata": {},
   "outputs": [
    {
     "name": "stdout",
     "output_type": "stream",
     "text": [
      "###################frame46.jpg###################\n",
      "ELEVATION: 26 M\n",
      "HEADING: 127° (T)\n",
      "PIE KEL]\n",
      "TIME: 5:54:27 AM\n",
      "###################frame47.jpg###################\n",
      "PBZ le) arson\n",
      "HEADING: 127° (T)\n",
      "DATE: 5/3/18\n",
      "TIME: 5:54:31 AM\n",
      "###################frame45.jpg###################\n",
      "ELEVATION: 26 M\n",
      "HEADING: 127° (T)\n",
      "DATE: 5/3/18\n",
      "TIME: 5:54:23 AM\n",
      "###################frame44.jpg###################\n",
      "ELEVATION: 26 M\n",
      "HEADING: 130° (T)\n",
      "DATE: 5/3/18\n",
      "TIME: 5:54:19 AM\n",
      "###################frame40.jpg###################\n",
      "ELEVATION: 25 M\n",
      "HEADING: 130° (T)\n",
      "PoE EL]\n",
      "TIME: 5:54:03 AM\n",
      "###################frame41.jpg###################\n",
      "PR le) ar\n",
      "HEADING: 131° (T)\n",
      "DATE: 5/3/18\n",
      "TIME: 5:54:07 AM\n",
      "###################frame43.jpg###################\n",
      "ELEVATION: 26 M\n",
      "HEADING: 131° (T)\n",
      "DATE: 5/3/18\n",
      "TIME: 5:54:15 AM\n",
      "###################frame42.jpg###################\n",
      "ELEVATION: 25 M\n",
      "HEADING: 131° (T)\n",
      "PISA]\n",
      "TIME: 5:54:11 AM\n",
      "###################frame19.jpg###################\n",
      "\n",
      "###################frame25.jpg###################\n",
      "ELEVATION: 22 M\n",
      "HEADING: 125° (T)\n",
      "Pe ISEK EL]\n",
      "TIME: 5:53:02 AM\n",
      "###################frame31.jpg###################\n",
      "ELEVATION: 24M\n",
      "HEADING: 124° (T)\n",
      "DATE: 5/3/18\n",
      "TIME: 5:53:27 AM\n",
      "###################frame30.jpg###################\n",
      "ELEVATION: 23 M\n",
      "HEADING: 123° (T)\n",
      "DATE: 5/3/18\n",
      "TIME: 5:53:23 AM\n",
      "###################frame24.jpg###################\n",
      "ELEVATION: 20 M\n",
      "HEADING: 125° (T)\n",
      "PIER EL]\n",
      "TIME: 5:52:58 AM\n",
      "###################frame18.jpg###################\n",
      "\n",
      "###################frame32.jpg###################\n",
      "ELEVATION: 24M\n",
      "HEADING: 125° (T)\n",
      "PoE KEL]\n",
      "TIME: 5:53:31 AM\n",
      "###################frame26.jpg###################\n",
      "ELEVATION: 23 M\n",
      "HEADING: 125° (T)\n",
      "PIER EL]\n",
      "TIME: 5:53:06 AM\n",
      "###################frame27.jpg###################\n",
      "ELEVATION: 23 M\n",
      "HEADING: 124° (T)\n",
      "PIE KEL]\n",
      "\n",
      "Ur) eX a\n",
      "###################frame33.jpg###################\n",
      "ELEVATION: 23 M\n",
      "HEADING: 128° (T)\n",
      "DATE: 5/3/18\n",
      "TIME: 5:53:35 AM\n",
      "###################frame37.jpg###################\n",
      "ELEVATION: 24M\n",
      "HEADING: 130° (T)\n",
      "DATE: 5/3/18\n",
      "TIME: 5:53:51 AM\n",
      "###################frame23.jpg###################\n",
      "ELEVATION: 18 M\n",
      "HEADING: 126° (T)\n",
      "PIER EL]\n",
      "TIME: 5:52:54 AM\n",
      "###################frame22.jpg###################\n",
      "ELEVATION: 17M\n",
      "HEADING: 125° (T)\n",
      "DATE: 5/3/18\n",
      "Seer]\n",
      "###################frame36.jpg###################\n",
      "ELEVATION: 24M\n",
      "HEADING: 131° (T)\n",
      "DATE: 5/3/18\n",
      "TIME: 5:53:47 AM\n",
      "###################frame20.jpg###################\n",
      "\n",
      "###################frame34.jpg###################\n",
      "ELEVATION: 23 M\n",
      "HEADING: 128° (T)\n",
      "DATE: 5/3/18\n",
      "TIME: 5:53:39 AM\n",
      "###################frame9.jpg###################\n",
      "\n",
      "###################frame8.jpg###################\n",
      "\n",
      "###################frame35.jpg###################\n",
      "ELEVATION: 24M\n",
      "HEADING: 128° (T)\n",
      "PoE EL]\n",
      "Sse]\n",
      "###################frame21.jpg###################\n",
      "ELEVATION: 16 M\n",
      "fa) Cie a)\n",
      "Pee EL:]\n",
      "seo serae eT]\n",
      "###################frame38.jpg###################\n",
      "ELEVATION: 24M\n",
      "HEADING: 131° (T)\n",
      "PoE AL)\n",
      "TIME: 5:53:55 AM\n",
      "###################frame5.jpg###################\n",
      "\n",
      "###################frame10.jpg###################\n",
      "\n",
      "###################frame11.jpg###################\n",
      "\n",
      "###################frame4.jpg###################\n",
      "\n",
      "###################frame39.jpg###################\n",
      "ELEVATION: 24M\n",
      "HEADING: 131° (T)\n",
      "DATE: 5/3/18\n",
      "TIME: 5:53:59 AM\n",
      "###################frame6.jpg###################\n",
      "\n",
      "###################frame13.jpg###################\n",
      "\n",
      "###################frame12.jpg###################\n",
      "\n",
      "###################frame7.jpg###################\n",
      "\n",
      "###################frame3.jpg###################\n",
      "\n",
      "###################frame16.jpg###################\n",
      "\n",
      "###################frame17.jpg###################\n",
      "\n",
      "###################frame2.jpg###################\n",
      "\n",
      "###################frame0.jpg###################\n",
      "\n",
      "###################frame15.jpg###################\n",
      "\n",
      "###################frame29.jpg###################\n",
      "ELEVATION: 23 M\n",
      "HEADING: 124° (T)\n",
      "PIER EL]\n",
      "TIME: 5:53:19 AM\n",
      "###################frame28.jpg###################\n",
      "ELEVATION: 23 M\n",
      "HEADING: 124° (T)\n",
      "PoE KEL]\n",
      "TIME: 5:53:15 AM\n",
      "###################frame14.jpg###################\n",
      "\n",
      "###################frame1.jpg###################\n",
      "\n",
      "###################frame49.jpg###################\n",
      "PRAY le) arse\n",
      "HEADING: 143° (T)\n",
      "PoE KEL)\n",
      "TIME: 5:54:39 AM\n",
      "###################frame48.jpg###################\n",
      "PRAY le) arse\n",
      "HEADING: 127° (T)\n",
      "PIER EL]\n",
      "TIME: 5:54:35 AM\n"
     ]
    }
   ],
   "source": [
    "indir = './frames_lmtd/'\n",
    "for root, dirs, filenames in os.walk(indir):\n",
    "    for filename in filenames:\n",
    "        print('###################' + filename + '###################')\n",
    "        im = Image.open(indir + filename)\n",
    "        region = crop_box_ital(im)\n",
    "        text = pytesseract.image_to_string(region, lang='eng', config='--oem 1 --psm 1') #oem 1 means Neural Nets LSTM engine\n",
    "        print(text)"
   ]
  },
  {
   "cell_type": "code",
   "execution_count": 78,
   "metadata": {},
   "outputs": [],
   "source": [
    "def crop_box_1_line(input_image):\n",
    "    crop_width = 290    \n",
    "    top_corner_height = 78\n",
    "    bottom_corner_height = 36\n",
    "    width, height = input_image.size\n",
    "    #box coordinates: x, y of upper left corner, then x, y of lower right corner\n",
    "    #0, 0 coordinates are upper left corner\n",
    "    box = 0, height - top_corner_height, crop_width, height - bottom_corner_height\n",
    "    return input_image.crop(box)"
   ]
  },
  {
   "cell_type": "code",
   "execution_count": 80,
   "metadata": {},
   "outputs": [
    {
     "name": "stdout",
     "output_type": "stream",
     "text": [
      "###################frame46.jpg###################\n",
      "PIE KEL]\n",
      "###################frame47.jpg###################\n",
      "DATE: 5/3/18\n",
      "###################frame45.jpg###################\n",
      "DATE: 5/3/18\n",
      "###################frame44.jpg###################\n",
      "DATE: 5/3/18\n",
      "###################frame40.jpg###################\n",
      "PoE EL]\n",
      "###################frame41.jpg###################\n",
      "DATE: 5/3/18\n",
      "###################frame43.jpg###################\n",
      "DATE: 5/3/18\n",
      "###################frame42.jpg###################\n",
      "PISA]\n",
      "###################frame19.jpg###################\n",
      "\n",
      "###################frame25.jpg###################\n",
      "Pe ISEK EL]\n",
      "###################frame31.jpg###################\n",
      "DATE: 5/3/18\n",
      "###################frame30.jpg###################\n",
      "DATE: 5/3/18\n",
      "###################frame24.jpg###################\n",
      "PIER EL]\n",
      "###################frame18.jpg###################\n",
      "\n",
      "###################frame32.jpg###################\n",
      "PoE KEL]\n",
      "###################frame26.jpg###################\n",
      "PIER EL]\n",
      "###################frame27.jpg###################\n",
      "PIE KEL]\n",
      "###################frame33.jpg###################\n",
      "DATE: 5/3/18\n",
      "###################frame37.jpg###################\n",
      "DATE: 5/3/18\n",
      "###################frame23.jpg###################\n",
      "PIER EL]\n",
      "###################frame22.jpg###################\n",
      "DATE: 5/3/18\n",
      "###################frame36.jpg###################\n",
      "DATE: 5/3/18\n",
      "###################frame20.jpg###################\n",
      "\n",
      "###################frame34.jpg###################\n",
      "DATE: 5/3/18\n",
      "###################frame9.jpg###################\n",
      "\n",
      "###################frame8.jpg###################\n",
      "\n",
      "###################frame35.jpg###################\n",
      "PoE EL]\n",
      "###################frame21.jpg###################\n",
      "Pee EL:]\n",
      "###################frame38.jpg###################\n",
      "PoE AL)\n",
      "###################frame5.jpg###################\n",
      "\n",
      "###################frame10.jpg###################\n",
      "\n",
      "###################frame11.jpg###################\n",
      "\n",
      "###################frame4.jpg###################\n",
      "\n",
      "###################frame39.jpg###################\n",
      "DATE: 5/3/18\n",
      "###################frame6.jpg###################\n",
      "\n",
      "###################frame13.jpg###################\n",
      "\n",
      "###################frame12.jpg###################\n",
      "\n",
      "###################frame7.jpg###################\n",
      "\n",
      "###################frame3.jpg###################\n",
      "\n",
      "###################frame16.jpg###################\n",
      "\n",
      "###################frame17.jpg###################\n",
      "\n",
      "###################frame2.jpg###################\n",
      "\n",
      "###################frame0.jpg###################\n",
      "\n",
      "###################frame15.jpg###################\n",
      "\n",
      "###################frame29.jpg###################\n",
      "PIER EL]\n",
      "###################frame28.jpg###################\n",
      "PoE KEL]\n",
      "###################frame14.jpg###################\n",
      "\n",
      "###################frame1.jpg###################\n",
      "\n",
      "###################frame49.jpg###################\n",
      "PoE KEL)\n",
      "###################frame48.jpg###################\n",
      "PIER EL]\n"
     ]
    }
   ],
   "source": [
    "#RUN OCR ON JUST ONE INCORRECT LINE\n",
    "indir = './frames_lmtd/'\n",
    "for root, dirs, filenames in os.walk(indir):\n",
    "    for filename in filenames:\n",
    "        print('###################' + filename + '###################')\n",
    "        im = Image.open(indir + filename)\n",
    "        region = crop_box_1_line(im)\n",
    "        #plt.imshow(region)\n",
    "        #plt.show()\n",
    "        text = pytesseract.image_to_string(region, lang='eng', config='--oem 1') #oem 1 means Neural Nets LSTM engine\n",
    "        print(text)"
   ]
  },
  {
   "cell_type": "markdown",
   "metadata": {},
   "source": [
    "### Convert all non-white pixels to black"
   ]
  },
  {
   "cell_type": "code",
   "execution_count": 3,
   "metadata": {},
   "outputs": [],
   "source": [
    "img = cv2.imread('./frames_lmtd/frame32.jpg')\n",
    "img[np.where((img != [255,255,255]).all(axis=2))] = [0,0,0]"
   ]
  },
  {
   "cell_type": "code",
   "execution_count": 5,
   "metadata": {},
   "outputs": [
    {
     "data": {
      "image/png": "[encoded data removed]",
      "text/plain": [
       "<Figure size 432x288 with 1 Axes>"
      ]
     },
     "metadata": {
      "needs_background": "light"
     },
     "output_type": "display_data"
    }
   ],
   "source": [
    "plt.imshow(img)\n",
    "plt.show()"
   ]
  },
  {
   "cell_type": "markdown",
   "metadata": {},
   "source": [
    "### Apply Pre-processing on Images to Improve OCR Output"
   ]
  },
  {
   "cell_type": "code",
   "execution_count": 74,
   "metadata": {},
   "outputs": [
    {
     "name": "stdout",
     "output_type": "stream",
     "text": [
      "###################frame46.jpg###################\n",
      "DISTRICT OF COLUMBIA\n",
      "\n",
      "PRY le) arse\n",
      "HEADING: 127° (T)\n",
      "PIE KEL]\n",
      "TIME: 5:54:27 AM\n",
      "###################frame47.jpg###################\n",
      "DISTRICT OF COLUMBIA\n",
      "\n",
      "PRY le) arse\n",
      "HEADING: 127° (T)\n",
      "DATE: 5/3/18\n",
      "TIME: 5:54:31 AM\n",
      "###################frame45.jpg###################\n",
      "DISTRICT OF COLUMBIA\n",
      "\n",
      "ELEVATION: 26 M\n",
      "HEADING: 127° (T)\n",
      "DATE: 5/3/18\n",
      "TIME: 5:54:23 AM\n",
      "###################frame44.jpg###################\n",
      "DISTRICT OF COLUMBIA\n",
      "\n",
      "ELEVATION: 26 M\n",
      "HEADING: 130° (T)\n",
      "DATE: 5/3/18\n",
      "TIME: 5:54:19 AM\n",
      "###################frame40.jpg###################\n",
      "DISTRICT OF COLUMBIA\n",
      "\n",
      "PR le) and\n",
      "HEADING: 130° (T)\n",
      "PoE EL]\n",
      "TIME: 5:54:03 AM\n",
      "###################frame41.jpg###################\n",
      "DISTRICT OF COLUMBIA\n",
      "\n",
      "PR le) ar\n",
      "HEADING: 131° (T)\n",
      "DATE: 5/3/18\n",
      "TIME: 5:54:07 AM\n",
      "###################frame43.jpg###################\n",
      "DISTRICT OF COLUMBIA\n",
      "\n",
      "ELEVATION: 26 M\n",
      "HEADING: 131° (T)\n",
      "DATE: 5/3/18\n",
      "TIME: 5:54:15 AM\n",
      "###################frame42.jpg###################\n",
      "DISTRICT OF COLUMBIA\n",
      "\n",
      "ELEVATION: 25 M\n",
      "HEADING: 131° (T)\n",
      "PISA]\n",
      "TIME: 5:54:11 AM\n",
      "###################frame19.jpg###################\n",
      "\n",
      "###################frame25.jpg###################\n",
      "DISTRICT OF COLUMBIA\n",
      "\n",
      "ELEVATION: 22 M\n",
      "HEADING: 125° (T)\n",
      "Pe ISEK EL]\n",
      "eX a)\n",
      "###################frame31.jpg###################\n",
      "DISTRICT OF COLUMBIA\n",
      "\n",
      "ELEVATION: 24M\n",
      "HEADING: 124° (T)\n",
      "PoE KEL]\n",
      "TIME: 5:53:27 AM\n",
      "###################frame30.jpg###################\n",
      "DISTRICT OF COLUMBIA\n",
      "\n",
      "ELEVATION: 23 M\n",
      "HEADING: 123° (T)\n",
      "DATE: 5/3/18\n",
      "TIME: 5:53:23 AM\n",
      "###################frame24.jpg###################\n",
      "DISTRICT OF COLUMBIA\n",
      "\n",
      "ELEVATION: 20 M\n",
      "HEADING: 125° (T)\n",
      "PIER EL]\n",
      "TIME: 5:52:58 AM\n",
      "###################frame18.jpg###################\n",
      "\n",
      "###################frame32.jpg###################\n",
      "DISTRICT OF COLUMBIA\n",
      "\n",
      "ELEVATION: 24M\n",
      "HEADING: 125° (T)\n",
      "PIER EL]\n",
      "TIME: 5:53:31 AM\n",
      "###################frame26.jpg###################\n",
      "DISTRICT OF COLUMBIA\n",
      "\n",
      "ELEVATION: 23 M\n",
      "HEADING: 125° (T)\n",
      "PIER EL]\n",
      "TIME: 5:53:06 AM\n",
      "###################frame27.jpg###################\n",
      "DISTRICT OF COLUMBIA\n",
      "\n",
      "ELEVATION: 23 M\n",
      "HEADING: 124° (T)\n",
      "PIE KEL]\n",
      "TIME: 5:53:11 AM\n",
      "###################frame33.jpg###################\n",
      "DISTRICT OF COLUMBIA\n",
      "\n",
      "ELEVATION: 23 M\n",
      "HEADING: 128° (T)\n",
      "PIS KEL]\n",
      "TIME: 5:53:35 AM\n",
      "###################frame37.jpg###################\n",
      "DISTRICT OF COLUMBIA\n",
      "\n",
      "ELEVATION: 24M\n",
      "HEADING: 130° (T)\n",
      "PIS EL]\n",
      "TIME: 5:53:51 AM\n",
      "###################frame23.jpg###################\n",
      "DISTRICT OF COLUMBIA\n",
      "\n",
      "ELEVATION: 18 M\n",
      "HEADING: 126° (T)\n",
      "PIER EL]\n",
      "TIME: 5:52:54 AM\n",
      "###################frame22.jpg###################\n",
      "DISTRICT OF COLUMBIA\n",
      "\n",
      "ELEVATION: 17M\n",
      "HEADING: 125° (T)\n",
      "DATE: 5/3/18\n",
      "Serer)\n",
      "###################frame36.jpg###################\n",
      "DISTRICT OF COLUMBIA\n",
      "\n",
      "ELEVATION: 24M\n",
      "HEADING: 131° (T)\n",
      "PIS EL]\n",
      "TIME: 5:53:47 AM\n",
      "###################frame20.jpg###################\n",
      "\n",
      "###################frame34.jpg###################\n",
      "DISTRICT OF COLUMBIA\n",
      "\n",
      "ELEVATION: 23 M\n",
      "HEADING: 128° (T)\n",
      "DATE: 5/3/18\n",
      "TIME: 5:53:39 AM\n",
      "###################frame9.jpg###################\n",
      "\n",
      "###################frame8.jpg###################\n",
      "\n",
      "###################frame35.jpg###################\n",
      "DISTRICT OF COLUMBIA\n",
      "\n",
      "ELEVATION: 24M\n",
      "HEADING: 128° (T)\n",
      "PIS EL]\n",
      "TIME: 5:53:43 AM\n",
      "###################frame21.jpg###################\n",
      "DISTRICT OF COLUMBIA\n",
      "\n",
      "ELEVATION: 16 M\n",
      "a/c a)\n",
      "Pee K EL]\n",
      "TIME: 5:52:46 AM\n",
      "###################frame38.jpg###################\n",
      "DISTRICT OF COLUMBIA\n",
      "\n",
      "ELEVATION: 24M\n",
      "HEADING: 131° (T)\n",
      "PoE AL)\n",
      "TIME: 5:53:55 AM\n",
      "###################frame5.jpg###################\n",
      "\n",
      "###################frame10.jpg###################\n",
      "\n",
      "###################frame11.jpg###################\n",
      "\n",
      "###################frame4.jpg###################\n",
      "\n",
      "###################frame39.jpg###################\n",
      "DISTRICT OF COLUMBIA\n",
      "\n",
      "ELEVATION: 24M\n",
      "HEADING: 131° (T)\n",
      "PIS AL]\n",
      "TIME: 5:53:59 AM\n",
      "###################frame6.jpg###################\n",
      "\n",
      "###################frame13.jpg###################\n",
      "\n",
      "###################frame12.jpg###################\n",
      "\n",
      "###################frame7.jpg###################\n",
      "\n",
      "###################frame3.jpg###################\n",
      "\n",
      "###################frame16.jpg###################\n",
      "\n",
      "###################frame17.jpg###################\n",
      "\n",
      "###################frame2.jpg###################\n",
      "\n",
      "###################frame0.jpg###################\n",
      "\n",
      "###################frame15.jpg###################\n",
      "\n",
      "###################frame29.jpg###################\n",
      "DISTRICT OF COLUMBIA\n",
      "\n",
      "ELEVATION: 23 M\n",
      "HEADING: 124° (T)\n",
      "PIER EL]\n",
      "TIME: 5:53:19 AM\n",
      "###################frame28.jpg###################\n",
      "DISTRICT OF COLUMBIA\n",
      "\n",
      "ELEVATION: 23 M\n",
      "HEADING: 124° (T)\n",
      "PoE KEL]\n",
      "TIME: 5:53:15 AM\n",
      "###################frame14.jpg###################\n",
      "\n",
      "###################frame1.jpg###################\n",
      "\n",
      "###################frame49.jpg###################\n",
      "DISTRICT OF COLUMBIA\n",
      "\n",
      "PR le) arse\n",
      "HEADING: 143° (T)\n",
      "PIE KEL]\n",
      "TIME: 5:54:39 AM\n",
      "###################frame48.jpg###################\n",
      "DISTRICT OF COLUMBIA\n",
      "\n",
      "ELEVATION: 26 M\n",
      "HEADING: 127° (T)\n",
      "PIER EL]\n",
      "TIME: 5:54:35 AM\n"
     ]
    }
   ],
   "source": [
    "#TRY SAVING ARRAY TO PIL IMAGE BEFORE PASSING TO TESSERACT\n",
    "indir = './frames_lmtd/'\n",
    "for root, dirs, filenames in os.walk(indir):\n",
    "    for filename in filenames:\n",
    "        print('###################' + filename + '###################')\n",
    "        im = cv2.imread(indir + filename)\n",
    "        height, width = im.shape[:2]\n",
    "        crop_width = 290\n",
    "        crop_height = 220\n",
    "        region = im[height-crop_height:height,0:crop_width].copy()\n",
    "        region = cv2.cvtColor(region, cv2.COLOR_BGR2GRAY)\n",
    "        text = pytesseract.image_to_string(Image.fromarray(region, mode='L'), lang='eng')\n",
    "        print(text)"
   ]
  },
  {
   "cell_type": "code",
   "execution_count": 27,
   "metadata": {},
   "outputs": [
    {
     "name": "stdout",
     "output_type": "stream",
     "text": [
      "###################frame46.jpg###################\n",
      "DISTRICT OF COLUMBIA\n",
      "\n",
      "PRY le) arse\n",
      "HEADING: 127° (T)\n",
      "PIE KEL]\n",
      "TIME: 5:54:27 AM\n",
      "###################frame47.jpg###################\n",
      "DISTRICT OF COLUMBIA\n",
      "\n",
      "PRY le) arse\n",
      "HEADING: 127° (T)\n",
      "DATE: 5/3/18\n",
      "TIME: 5:54:31 AM\n",
      "###################frame45.jpg###################\n",
      "DISTRICT OF COLUMBIA\n",
      "\n",
      "ELEVATION: 26 M\n",
      "HEADING: 127° (T)\n",
      "DATE: 5/3/18\n",
      "TIME: 5:54:23 AM\n",
      "###################frame44.jpg###################\n",
      "DISTRICT OF COLUMBIA\n",
      "\n",
      "ELEVATION: 26 M\n",
      "HEADING: 130° (T)\n",
      "DATE: 5/3/18\n",
      "TIME: 5:54:19 AM\n",
      "###################frame40.jpg###################\n",
      "DISTRICT OF COLUMBIA\n",
      "\n",
      "PR le) and\n",
      "HEADING: 130° (T)\n",
      "PoE EL]\n",
      "TIME: 5:54:03 AM\n",
      "###################frame41.jpg###################\n",
      "DISTRICT OF COLUMBIA\n",
      "\n",
      "PR le) ar\n",
      "HEADING: 131° (T)\n",
      "DATE: 5/3/18\n",
      "TIME: 5:54:07 AM\n",
      "###################frame43.jpg###################\n",
      "DISTRICT OF COLUMBIA\n",
      "\n",
      "ELEVATION: 26 M\n",
      "HEADING: 131° (T)\n",
      "DATE: 5/3/18\n",
      "TIME: 5:54:15 AM\n",
      "###################frame42.jpg###################\n",
      "DISTRICT OF COLUMBIA\n",
      "\n",
      "ELEVATION: 25 M\n",
      "HEADING: 131° (T)\n",
      "PISA]\n",
      "TIME: 5:54:11 AM\n",
      "###################frame19.jpg###################\n",
      "\n",
      "###################frame25.jpg###################\n",
      "DISTRICT OF COLUMBIA\n",
      "\n",
      "ELEVATION: 22 M\n",
      "HEADING: 125° (T)\n",
      "Pe ISEK EL]\n",
      "eX a)\n",
      "###################frame31.jpg###################\n",
      "DISTRICT OF COLUMBIA\n",
      "\n",
      "ELEVATION: 24M\n",
      "HEADING: 124° (T)\n",
      "PoE KEL]\n",
      "TIME: 5:53:27 AM\n",
      "###################frame30.jpg###################\n",
      "DISTRICT OF COLUMBIA\n",
      "\n",
      "ELEVATION: 23 M\n",
      "HEADING: 123° (T)\n",
      "DATE: 5/3/18\n",
      "TIME: 5:53:23 AM\n",
      "###################frame24.jpg###################\n",
      "DISTRICT OF COLUMBIA\n",
      "\n",
      "ELEVATION: 20 M\n",
      "HEADING: 125° (T)\n",
      "PIER EL]\n",
      "TIME: 5:52:58 AM\n",
      "###################frame18.jpg###################\n",
      "\n",
      "###################frame32.jpg###################\n",
      "DISTRICT OF COLUMBIA\n",
      "\n",
      "ELEVATION: 24M\n",
      "HEADING: 125° (T)\n",
      "PIER EL]\n",
      "TIME: 5:53:31 AM\n",
      "###################frame26.jpg###################\n",
      "DISTRICT OF COLUMBIA\n",
      "\n",
      "ELEVATION: 23 M\n",
      "HEADING: 125° (T)\n",
      "PIER EL]\n",
      "TIME: 5:53:06 AM\n",
      "###################frame27.jpg###################\n",
      "DISTRICT OF COLUMBIA\n",
      "\n",
      "ELEVATION: 23 M\n",
      "HEADING: 124° (T)\n",
      "PIE KEL]\n",
      "TIME: 5:53:11 AM\n",
      "###################frame33.jpg###################\n",
      "DISTRICT OF COLUMBIA\n",
      "\n",
      "ELEVATION: 23 M\n",
      "HEADING: 128° (T)\n",
      "PIS KEL]\n",
      "TIME: 5:53:35 AM\n",
      "###################frame37.jpg###################\n",
      "DISTRICT OF COLUMBIA\n",
      "\n",
      "ELEVATION: 24M\n",
      "HEADING: 130° (T)\n",
      "PIS EL]\n",
      "TIME: 5:53:51 AM\n",
      "###################frame23.jpg###################\n",
      "DISTRICT OF COLUMBIA\n",
      "\n",
      "ELEVATION: 18 M\n",
      "HEADING: 126° (T)\n",
      "PIER EL]\n",
      "TIME: 5:52:54 AM\n",
      "###################frame22.jpg###################\n",
      "DISTRICT OF COLUMBIA\n",
      "\n",
      "ELEVATION: 17M\n",
      "HEADING: 125° (T)\n",
      "DATE: 5/3/18\n",
      "Serer)\n",
      "###################frame36.jpg###################\n",
      "DISTRICT OF COLUMBIA\n",
      "\n",
      "ELEVATION: 24M\n",
      "HEADING: 131° (T)\n",
      "PIS EL]\n",
      "TIME: 5:53:47 AM\n",
      "###################frame20.jpg###################\n",
      "\n",
      "###################frame34.jpg###################\n",
      "DISTRICT OF COLUMBIA\n",
      "\n",
      "ELEVATION: 23 M\n",
      "HEADING: 128° (T)\n",
      "DATE: 5/3/18\n",
      "TIME: 5:53:39 AM\n",
      "###################frame9.jpg###################\n",
      "\n",
      "###################frame8.jpg###################\n",
      "\n",
      "###################frame35.jpg###################\n",
      "DISTRICT OF COLUMBIA\n",
      "\n",
      "ELEVATION: 24M\n",
      "HEADING: 128° (T)\n",
      "PIS EL]\n",
      "TIME: 5:53:43 AM\n",
      "###################frame21.jpg###################\n",
      "DISTRICT OF COLUMBIA\n",
      "\n",
      "ELEVATION: 16 M\n",
      "a/c a)\n",
      "Pee K EL]\n",
      "TIME: 5:52:46 AM\n",
      "###################frame38.jpg###################\n",
      "DISTRICT OF COLUMBIA\n",
      "\n",
      "ELEVATION: 24M\n",
      "HEADING: 131° (T)\n",
      "PoE AL)\n",
      "TIME: 5:53:55 AM\n",
      "###################frame5.jpg###################\n",
      "\n",
      "###################frame10.jpg###################\n",
      "\n",
      "###################frame11.jpg###################\n",
      "\n",
      "###################frame4.jpg###################\n",
      "\n",
      "###################frame39.jpg###################\n",
      "DISTRICT OF COLUMBIA\n",
      "\n",
      "ELEVATION: 24M\n",
      "HEADING: 131° (T)\n",
      "PIS AL]\n",
      "TIME: 5:53:59 AM\n",
      "###################frame6.jpg###################\n",
      "\n",
      "###################frame13.jpg###################\n",
      "\n",
      "###################frame12.jpg###################\n",
      "\n",
      "###################frame7.jpg###################\n",
      "\n",
      "###################frame3.jpg###################\n",
      "\n",
      "###################frame16.jpg###################\n",
      "\n",
      "###################frame17.jpg###################\n",
      "\n",
      "###################frame2.jpg###################\n",
      "\n",
      "###################frame0.jpg###################\n",
      "\n",
      "###################frame15.jpg###################\n",
      "\n",
      "###################frame29.jpg###################\n",
      "DISTRICT OF COLUMBIA\n",
      "\n",
      "ELEVATION: 23 M\n",
      "HEADING: 124° (T)\n",
      "PIER EL]\n",
      "TIME: 5:53:19 AM\n",
      "###################frame28.jpg###################\n",
      "DISTRICT OF COLUMBIA\n",
      "\n",
      "ELEVATION: 23 M\n",
      "HEADING: 124° (T)\n",
      "PoE KEL]\n",
      "TIME: 5:53:15 AM\n",
      "###################frame14.jpg###################\n",
      "\n",
      "###################frame1.jpg###################\n",
      "\n",
      "###################frame49.jpg###################\n",
      "DISTRICT OF COLUMBIA\n",
      "\n",
      "PR le) arse\n",
      "HEADING: 143° (T)\n",
      "PIE KEL]\n",
      "TIME: 5:54:39 AM\n",
      "###################frame48.jpg###################\n",
      "DISTRICT OF COLUMBIA\n",
      "\n",
      "ELEVATION: 26 M\n",
      "HEADING: 127° (T)\n",
      "PIER EL]\n",
      "TIME: 5:54:35 AM\n"
     ]
    }
   ],
   "source": [
    "#CONVERT IMAGE TO GRAYSCALE\n",
    "indir = './frames_lmtd/'\n",
    "for root, dirs, filenames in os.walk(indir):\n",
    "    for filename in filenames:\n",
    "        print('###################' + filename + '###################')\n",
    "        im = cv2.imread(indir + filename)\n",
    "        height, width = im.shape[:2]\n",
    "        crop_width = 290\n",
    "        crop_height = 220\n",
    "        region = im[height-crop_height:height,0:crop_width].copy()\n",
    "        region = cv2.cvtColor(region, cv2.COLOR_BGR2GRAY)\n",
    "        text = pytesseract.image_to_string(region, lang='eng')\n",
    "        print(text)"
   ]
  },
  {
   "cell_type": "markdown",
   "metadata": {},
   "source": [
    "### Scale (Enlarge) Images"
   ]
  },
  {
   "cell_type": "code",
   "execution_count": 71,
   "metadata": {},
   "outputs": [
    {
     "name": "stdout",
     "output_type": "stream",
     "text": [
      "###################frame46.jpg###################\n",
      "DISTRICT OF COLUMBIA\n",
      "\n",
      "Pn VO PAL\n",
      "HEADING: 127° (T)\n",
      "a RET\n",
      "Ue AU\n",
      "###################frame47.jpg###################\n",
      "DISTRICT OF COLUMBIA\n",
      "\n",
      "Pn VO PAL\n",
      "HEADING: 127° (T)\n",
      "a RET\n",
      "\n",
      "1 ee OU\n",
      "###################frame45.jpg###################\n",
      "DISTRICT OF COLUMBIA\n",
      "\n",
      "Pan VO PAL\n",
      "HEADING: 127° (T)\n",
      "Wa RET\n",
      "SU\n",
      "###################frame44.jpg###################\n",
      "DISTRICT OF COLUMBIA\n",
      "\n",
      "OSL\n",
      "aC\n",
      "USER)\n",
      "ee\n",
      "###################frame40.jpg###################\n",
      "DISTRICT OF COLUMBIA\n",
      "\n",
      "ale re\n",
      "= LN CR\n",
      "Ue RIE\n",
      "\n",
      "UT eee ASU\n",
      "###################frame41.jpg###################\n",
      "DISTRICT OF COLUMBIA\n",
      "\n",
      "nO\n",
      "HEADING: 131° (T)\n",
      "eek AL\n",
      "eee AU\n",
      "###################frame43.jpg###################\n",
      "DISTRICT OF COLUMBIA\n",
      "\n",
      "ROS\n",
      "= RT\n",
      "USER)\n",
      "TIME: 5:54:15 AM\n",
      "###################frame42.jpg###################\n",
      "DISTRICT OF COLUMBIA\n",
      "\n",
      "AOS\n",
      "= CRE\n",
      "We RAL\n",
      "UU\n",
      "###################frame19.jpg###################\n",
      "\n",
      "###################frame25.jpg###################\n",
      "DISTRICT OF COLUMBIA\n",
      "\n",
      "Pn VO Pa\n",
      "HEADING: 125° (T)\n",
      "a RET\n",
      "1 SRL\n",
      "###################frame31.jpg###################\n",
      "a eee RU SL\n",
      "\n",
      "AOL\n",
      "=a Ce)\n",
      "VER EL\n",
      "USN VAM\n",
      "###################frame30.jpg###################\n",
      "DISTRICT OF COLUMBIA\n",
      "\n",
      "ne PAL\n",
      "= NCP)\n",
      "Wak AT\n",
      "AU\n",
      "###################frame24.jpg###################\n",
      "DISTRICT OF COLUMBIA\n",
      "\n",
      "a7 Ye aA\n",
      "HEADING: 125° (T)\n",
      "RTE\n",
      "1 Ya EU\n",
      "###################frame18.jpg###################\n",
      "\n",
      "###################frame32.jpg###################\n",
      "DISTRICT OF COLUMBIA\n",
      "\n",
      "AOL\n",
      "aC Pe\n",
      "DATE: 5/3/18\n",
      "LEST\n",
      "###################frame26.jpg###################\n",
      "DISTRICT OF COLUMBIA\n",
      "\n",
      "A OSL\n",
      "=P\n",
      "USE RE)\n",
      "ees R\n",
      "###################frame27.jpg###################\n",
      "DISTRICT OF COLUMBIA\n",
      "\n",
      "AOL\n",
      "=O\n",
      "We 8 aL\n",
      "US\n",
      "###################frame33.jpg###################\n",
      "DISTRICT OF COLUMBIA\n",
      "\n",
      "AOS\n",
      "aC sia\n",
      "DATE: 5/3/18\n",
      "ESL\n",
      "###################frame37.jpg###################\n",
      "DISTRICT OF COLUMBIA\n",
      "\n",
      "ne\n",
      "HEADING: 130° (T)\n",
      "Week AL\n",
      "EU\n",
      "###################frame23.jpg###################\n",
      "DISTRICT OF COLUMBIA\n",
      "\n",
      "an VO aE\n",
      "HEADING: 126° (T)\n",
      "aS RET\n",
      "\n",
      "1 YU\n",
      "###################frame22.jpg###################\n",
      "DISTRICT OF COLUMBIA\n",
      "\n",
      "nO\n",
      "HEADING: 125° (T)\n",
      "a REL\n",
      "\n",
      "1 aya\n",
      "###################frame36.jpg###################\n",
      "DISTRICT OF COLUMBIA\n",
      "\n",
      "AOL\n",
      "eC RT\n",
      "a RAL\n",
      "UST\n",
      "###################frame20.jpg###################\n",
      "\n",
      "###################frame34.jpg###################\n",
      "DISTRICT OF COLUMBIA\n",
      "\n",
      "AOS\n",
      "aC Asia\n",
      "eR AL\n",
      "USES\n",
      "###################frame9.jpg###################\n",
      "\n",
      "###################frame8.jpg###################\n",
      "\n",
      "###################frame35.jpg###################\n",
      "DISTRICT OF COLUMBIA\n",
      "\n",
      "AL\n",
      "Asie\n",
      "eR AL\n",
      "SU\n",
      "###################frame21.jpg###################\n",
      "DISTRICT OF COLUMBIA\n",
      "\n",
      "an aL\n",
      "HEADING: 124° (T)\n",
      "We REL\n",
      "\n",
      "U1 eR\n",
      "###################frame38.jpg###################\n",
      "DISTRICT OF COLUMBIA\n",
      "\n",
      "ne\n",
      "= Cm a\n",
      "Ue TE)\n",
      "US eS\n",
      "###################frame5.jpg###################\n",
      "\n",
      "###################frame10.jpg###################\n",
      "\n",
      "###################frame11.jpg###################\n",
      "\n",
      "###################frame4.jpg###################\n",
      "\n",
      "###################frame39.jpg###################\n",
      "DISTRICT OF COLUMBIA\n",
      "\n",
      "AOL\n",
      "= CRE\n",
      "DATE: 5/3/18\n",
      "UU\n",
      "###################frame6.jpg###################\n",
      "\n",
      "###################frame13.jpg###################\n",
      "\n",
      "###################frame12.jpg###################\n",
      "\n",
      "###################frame7.jpg###################\n",
      "\n",
      "###################frame3.jpg###################\n",
      "\n",
      "###################frame16.jpg###################\n",
      "\n",
      "###################frame17.jpg###################\n",
      "\n",
      "###################frame2.jpg###################\n",
      "\n",
      "###################frame0.jpg###################\n",
      "\n",
      "###################frame15.jpg###################\n",
      "\n",
      "###################frame29.jpg###################\n",
      "DISTRICT OF COLUMBIA\n",
      "\n",
      "nl OL\n",
      "= NC)\n",
      "Wak AL\n",
      "SU\n",
      "###################frame28.jpg###################\n",
      "DISTRICT OF COLUMBIA\n",
      "\n",
      "nea\n",
      "= NC)\n",
      "Wak AL\n",
      "SL\n",
      "###################frame14.jpg###################\n",
      "\n",
      "###################frame1.jpg###################\n",
      "\n",
      "###################frame49.jpg###################\n",
      "DISTRICT OF COLUMBIA\n",
      "\n",
      "A OSL\n",
      "aCe OD\n",
      "DATE: 5/3/18\n",
      "eke a\n",
      "###################frame48.jpg###################\n",
      "DISTRICT OF COLUMBIA\n",
      "\n",
      "OSL\n",
      "= Cea\n",
      "DATE: 5/3/18\n",
      "eke Ta\n"
     ]
    }
   ],
   "source": [
    "#SCALE (ZOOM IN)\n",
    "indir = './frames_lmtd/'\n",
    "for root, dirs, filenames in os.walk(indir):\n",
    "    for filename in filenames:\n",
    "        print('###################' + filename + '###################')\n",
    "        im = cv2.imread(indir + filename)\n",
    "        height, width = im.shape[:2]\n",
    "        crop_width = 290\n",
    "        crop_height = 220\n",
    "        region = im[height-crop_height:height,0:crop_width].copy()\n",
    "        new_im = cv2.resize(region, (2*crop_height,2*crop_width), interpolation = cv2.INTER_CUBIC)\n",
    "        text = pytesseract.image_to_string(Image.fromarray(new_im), lang='eng')\n",
    "        print(text)"
   ]
  },
  {
   "cell_type": "markdown",
   "metadata": {},
   "source": [
    "### Apply dilation and erosion to remove the noise"
   ]
  },
  {
   "cell_type": "code",
   "execution_count": 34,
   "metadata": {},
   "outputs": [
    {
     "name": "stdout",
     "output_type": "stream",
     "text": [
      "###################frame46.jpg###################\n",
      "DISTRICT OF COLUMBIA\n",
      "\n",
      "PRY le) arse\n",
      "HEADING: 127° (T)\n",
      "PIE KEL]\n",
      "TIME: 5:54:27 AM\n",
      "###################frame47.jpg###################\n",
      "DISTRICT OF COLUMBIA\n",
      "\n",
      "PBZ le) arson\n",
      "HEADING: 127° (T)\n",
      "DATE: 5/3/18\n",
      "TIME: 5:54:31 AM\n",
      "###################frame45.jpg###################\n",
      "DISTRICT OF COLUMBIA\n",
      "\n",
      "ELEVATION: 26 M\n",
      "HEADING: 127° (T)\n",
      "DATE: 5/3/18\n",
      "TIME: 5:54:23 AM\n",
      "###################frame44.jpg###################\n",
      "DISTRICT OF COLUMBIA\n",
      "\n",
      "ELEVATION: 26 M\n",
      "HEADING: 130° (T)\n",
      "DATE: 5/3/18\n",
      "TIME: 5:54:19 AM\n",
      "###################frame40.jpg###################\n",
      "DISTRICT OF COLUMBIA\n",
      "\n",
      "ELEVATION: 25 M\n",
      "HEADING: 130° (T)\n",
      "PoE EL]\n",
      "TIME: 5:54:03 AM\n",
      "###################frame41.jpg###################\n",
      "DISTRICT OF COLUMBIA\n",
      "\n",
      "ELEVATION: 25 M\n",
      "HEADING: 131° (T)\n",
      "DATE: 5/3/18\n",
      "TIME: 5:54:07 AM\n",
      "###################frame43.jpg###################\n",
      "DISTRICT OF COLUMBIA\n",
      "\n",
      "ELEVATION: 26 M\n",
      "HEADING: 131° (T)\n",
      "DATE: 5/3/18\n",
      "TIME: 5:54:15 AM\n",
      "###################frame42.jpg###################\n",
      "DISTRICT OF COLUMBIA\n",
      "\n",
      "ELEVATION: 25 M\n",
      "HEADING: 131° (T)\n",
      "PISA]\n",
      "TIME: 5:54:11 AM\n",
      "###################frame19.jpg###################\n",
      "\n",
      "###################frame25.jpg###################\n",
      "DISTRICT OF COLUMBIA\n",
      "\n",
      "ELEVATION: 22 M\n",
      "HEADING: 125° (T)\n",
      "Pe ISEK EL]\n",
      "TIME: 5:53:02 AM\n",
      "###################frame31.jpg###################\n",
      "__ DISTRICT OF COLUMBIA\n",
      "\n",
      "pmo\n",
      "fay) ce Sa)\n",
      "DATE: 5/3/18\n",
      "TIME: 5:53:27 AM\n",
      "###################frame30.jpg###################\n",
      "DISTRICT OF COLUMBIA\n",
      "\n",
      "ELEVATION: 23 M\n",
      "HEADING: 123° (T)\n",
      "DATE: 5/3/18\n",
      "TIME: 5:53:23 AM\n",
      "###################frame24.jpg###################\n",
      "DISTRICT OF COLUMBIA\n",
      "\n",
      "ELEVATION: 20 M\n",
      "HEADING: 125° (T)\n",
      "PIER EL]\n",
      "TIME: 5:52:58 AM\n",
      "###################frame18.jpg###################\n",
      "\n",
      "###################frame32.jpg###################\n",
      "DISTRICT OF COLUMBIA\n",
      "\n",
      "ELEVATION: 24M\n",
      "HEADING: 125° (T)\n",
      "PSE EL]\n",
      "TIME: 5:53:31 AM\n",
      "###################frame26.jpg###################\n",
      "DISTRICT OF COLUMBIA\n",
      "\n",
      "ELEVATION: 23 M\n",
      "HEADING: 125° (T)\n",
      "PIER EL]\n",
      "TIME: 5:53:06 AM\n",
      "###################frame27.jpg###################\n",
      "DISTRICT OF COLUMBIA\n",
      "\n",
      "ELEVATION: 23 M\n",
      "HEADING: 124° (T)\n",
      "PIE KEL]\n",
      "eX a\n",
      "###################frame33.jpg###################\n",
      "DISTRICT OF COLUMBIA\n",
      "\n",
      "ELEVATION: 23 M\n",
      "HEADING: 128° (T)\n",
      "DATE: 5/3/18\n",
      "TIME: 5:53:35 AM\n",
      "###################frame37.jpg###################\n",
      "DISTRICT OF COLUMBIA\n",
      "\n",
      "ELEVATION: 24M\n",
      "HEADING: 130° (T)\n",
      "PIER EL]\n",
      "TIME: 5:53:51 AM\n",
      "###################frame23.jpg###################\n",
      "DISTRICT OF COLUMBIA\n",
      "\n",
      "ELEVATION: 18 M\n",
      "HEADING: 126° (T)\n",
      "PIER EL]\n",
      "TIME: 5:52:54 AM\n",
      "###################frame22.jpg###################\n",
      "DISTRICT OF COLUMBIA\n",
      "\n",
      "ELEVATION: 17M\n",
      "HEADING: 125° (T)\n",
      "DATE: 5/3/18\n",
      "ere)\n",
      "###################frame36.jpg###################\n",
      "DISTRICT OF COLUMBIA\n",
      "\n",
      "ELEVATION: 24M\n",
      "HEADING: 131° (T)\n",
      "PoE EL]\n",
      "TIME: 5:53:47 AM\n",
      "###################frame20.jpg###################\n",
      "\n",
      "###################frame34.jpg###################\n",
      "DISTRICT OF COLUMBIA\n",
      "\n",
      "ELEVATION: 23 M\n",
      "HEADING: 128° (T)\n",
      "DATE: 5/3/18\n",
      "TIME: 5:53:39 AM\n",
      "###################frame9.jpg###################\n",
      "\n",
      "###################frame8.jpg###################\n",
      "\n",
      "###################frame35.jpg###################\n",
      "DISTRICT OF COLUMBIA\n",
      "\n",
      "ELEVATION: 24M\n",
      "HEADING: 128° (T)\n",
      "PIER EL]\n",
      "TIME: 5:53:43 AM\n",
      "###################frame21.jpg###################\n",
      "DISTRICT OF COLUMBIA\n",
      "\n",
      "ELEVATION: 16 M\n",
      "fa.) (Cie a)\n",
      "Pee EL:]\n",
      "eos ae |\n",
      "###################frame38.jpg###################\n",
      "DISTRICT OF COLUMBIA\n",
      "\n",
      "ELEVATION: 24M\n",
      "HEADING: 131° (T)\n",
      "PoE AL)\n",
      "TIME: 5:53:55 AM\n",
      "###################frame5.jpg###################\n",
      "\n",
      "###################frame10.jpg###################\n",
      "\n",
      "###################frame11.jpg###################\n",
      "\n",
      "###################frame4.jpg###################\n",
      "\n",
      "###################frame39.jpg###################\n",
      "DISTRICT OF COLUMBIA\n",
      "\n",
      "ELEVATION: 24M\n",
      "HEADING: 131° (T)\n",
      "PIE EL)\n",
      "TIME: 5:53:59 AM\n",
      "###################frame6.jpg###################\n",
      "\n",
      "###################frame13.jpg###################\n",
      "\n",
      "###################frame12.jpg###################\n",
      "\n",
      "###################frame7.jpg###################\n",
      "\n",
      "###################frame3.jpg###################\n",
      "\n",
      "###################frame16.jpg###################\n",
      "\n",
      "###################frame17.jpg###################\n",
      "\n",
      "###################frame2.jpg###################\n",
      "\n",
      "###################frame0.jpg###################\n",
      "\n",
      "###################frame15.jpg###################\n",
      "\n",
      "###################frame29.jpg###################\n",
      "DISTRICT OF COLUMBIA\n",
      "\n",
      "ELEVATION: 23 M\n",
      "HEADING: 124° (T)\n",
      "PIER EL]\n",
      "TIME: 5:53:19 AM\n",
      "###################frame28.jpg###################\n",
      "DISTRICT OF COLUMBIA\n",
      "\n",
      "ELEVATION: 23 M\n",
      "HEADING: 124° (T)\n",
      "PoE KEL]\n",
      "TIME: 5:53:15 AM\n",
      "###################frame14.jpg###################\n",
      "\n",
      "###################frame1.jpg###################\n",
      "\n",
      "###################frame49.jpg###################\n",
      "DISTRICT OF COLUMBIA\n",
      "\n",
      "PRY le) arse\n",
      "HEADING: 143° (T)\n",
      "PoE KEL)\n",
      "TIME: 5:54:39 AM\n",
      "###################frame48.jpg###################\n",
      "DISTRICT OF COLUMBIA\n",
      "\n",
      "PRY le) arse\n",
      "HEADING: 127° (T)\n",
      "PIER EL]\n",
      "TIME: 5:54:35 AM\n"
     ]
    }
   ],
   "source": [
    "indir = './frames_lmtd/'\n",
    "kernel = np.ones((1,1), np.uint8)\n",
    "for root, dirs, filenames in os.walk(indir):\n",
    "    for filename in filenames:\n",
    "        print('###################' + filename + '###################')\n",
    "        im = cv2.imread(indir + filename)\n",
    "        height, width = im.shape[:2]\n",
    "        crop_width = 290\n",
    "        crop_height = 220\n",
    "        region = im[height-crop_height:height,0:crop_width].copy()\n",
    "        new_im = cv2.dilate(region, kernel, iterations=1)\n",
    "        new_im = cv2.erode(new_im, kernel, iterations=1)\n",
    "        text = pytesseract.image_to_string(new_im, lang='eng')\n",
    "        print(text)"
   ]
  },
  {
   "cell_type": "markdown",
   "metadata": {},
   "source": [
    "### Apply Filters and Binarization"
   ]
  },
  {
   "cell_type": "code",
   "execution_count": 40,
   "metadata": {},
   "outputs": [
    {
     "name": "stdout",
     "output_type": "stream",
     "text": [
      "###################frame46.jpg###################\n",
      "DISTRICT OF COLUMBIA\n",
      "\n",
      "p20 ie re\n",
      "ee Cer emer\n",
      "pei oe cal)\n",
      "TIME: 5:54:27 AM\n",
      "###################frame47.jpg###################\n",
      "DISTRICT OF COLUMBIA\n",
      "\n",
      "cE e re\n",
      "ee) Cer am ee]\n",
      "pee cal\n",
      "TIME: 5:54:31 AM\n",
      "###################frame45.jpg###################\n",
      "DISTRICT OF COLUMBIA\n",
      "\n",
      "p57 ie re\n",
      "a wel cer iam ee]\n",
      "peat al]\n",
      "\n",
      "Ri See ET\n",
      "###################frame44.jpg###################\n",
      "OISTRICT OF COLUMBIA\n",
      "\n",
      "po E Sie re\n",
      "HEADING: 130° (T)\n",
      "DATE: 8/3/18\n",
      "TIME: 5:54:19 AM\n",
      "###################frame40.jpg###################\n",
      "DISTRICT OF COLUMBIA\n",
      "\n",
      "fatale en\n",
      "HEADING: 130° (1)\n",
      "ae aL)\n",
      "by eer]\n",
      "###################frame41.jpg###################\n",
      "DISTRICT OF COLUMBIA\n",
      "\n",
      "poe 2\n",
      "ee CK ae)\n",
      "pee al\n",
      "\n",
      "Bi See wT\n",
      "###################frame43.jpg###################\n",
      "DISTRICT OF COLUMBIA\n",
      "\n",
      "poE SE e re\n",
      "HEADING: 131° (1)\n",
      "peor)\n",
      "\n",
      "Pi See ET\n",
      "###################frame42.jpg###################\n",
      "DISTRICT OF COLUMBIA\n",
      "\n",
      "poe 2\n",
      "HEADING: 131° (1)\n",
      "ev ae al\n",
      "Ph See SE\n",
      "###################frame19.jpg###################\n",
      "\n",
      "###################frame25.jpg###################\n",
      "DISTRICT OF COLUMBIA\n",
      "\n",
      "fate 7g\n",
      "fee coer es)\n",
      "ee aL)\n",
      "\n",
      "be Se]\n",
      "###################frame31.jpg###################\n",
      "p87 he eT\n",
      "Cee ea)\n",
      "Pole cal)\n",
      "\n",
      "Bi Sei\n",
      "###################frame30.jpg###################\n",
      "DISTRICT OF COLUMBIA\n",
      "\n",
      "ELEVATION: 23 M\n",
      "HEADING: 123° (1)\n",
      "ee aL)\n",
      "\n",
      "be SE KOK]\n",
      "###################frame24.jpg###################\n",
      "DISTRICT OF COLUMBIA\n",
      "\n",
      "paF a7 ype\n",
      "beers\n",
      "pe cal)\n",
      "ee aT\n",
      "###################frame18.jpg###################\n",
      "\n",
      "###################frame32.jpg###################\n",
      "DISTRICT OF COLUMBIA\n",
      "\n",
      "p27 ese\n",
      "ee Coe. Meee\n",
      "eae al\n",
      "Ph SST\n",
      "###################frame26.jpg###################\n",
      "DISTRICT OF COLUMBIA\n",
      "\n",
      "paE a7 yee AE\n",
      "HEADING: 125° (1)\n",
      "eae aL)\n",
      "eee TT]\n",
      "###################frame27.jpg###################\n",
      "DISTRICT OF COLUMBIA\n",
      "\n",
      "cE Ee AE\n",
      "HEADING: 124° (T)\n",
      "pool\n",
      "\n",
      "Pi Se RT\n",
      "###################frame33.jpg###################\n",
      "OISTRICT OF COLUMBIA\n",
      "\n",
      "p28 S78 AE\n",
      "eel coer. eee)\n",
      "DATE: 8/3/18\n",
      "TIME: 6:53:35 AM\n",
      "###################frame37.jpg###################\n",
      "DISTRICT OF COLUMBIA\n",
      "\n",
      "ELEVATION: 24M\n",
      "HEADING: 130° (1)\n",
      "ae aL)\n",
      "pe) Sa Ty\n",
      "###################frame23.jpg###################\n",
      "DISTRICT OF COLUMBIA\n",
      "\n",
      "paF a7 ye EE\n",
      "Pacer. ae\n",
      "eae aL)\n",
      "ee ae]\n",
      "###################frame22.jpg###################\n",
      "DISTRICT OF COLUMBIA\n",
      "\n",
      "p= Sie ere\n",
      "fee coer. eae)\n",
      "eae al\n",
      "Bie een iE |\n",
      "###################frame36.jpg###################\n",
      "DISTRICT OF COLUMBIA\n",
      "\n",
      "p28 7h ese\n",
      "HEADING: 131° (1)\n",
      "DATE: 8/3/18\n",
      "\n",
      "Bi Se STW\n",
      "###################frame20.jpg###################\n",
      "\n",
      "###################frame34.jpg###################\n",
      "DISTRICT OF COLUMBIA\n",
      "\n",
      "p28 Ee AE\n",
      "eel coer. eee\n",
      "DATE: 8/3/18\n",
      "TIME: 5:53:39 AM\n",
      "###################frame9.jpg###################\n",
      "\n",
      "###################frame8.jpg###################\n",
      "\n",
      "###################frame35.jpg###################\n",
      "DISTRICT OF COLUMBIA\n",
      "\n",
      "para ype\n",
      "ee cer Me]\n",
      "pe aL)\n",
      "ee TY]\n",
      "###################frame21.jpg###################\n",
      "DISTRICT OF COLUMBIA\n",
      "\n",
      "PSEA ee LE\n",
      "fae Ces Meee\n",
      "poi oe al]\n",
      "i Sera\n",
      "###################frame38.jpg###################\n",
      "DISTRICT OF COLUMBIA\n",
      "\n",
      "fare ny\n",
      "foe cK Rete)\n",
      "ee aL)\n",
      "be ee ee]\n",
      "###################frame5.jpg###################\n",
      "\n",
      "###################frame10.jpg###################\n",
      "\n",
      "###################frame11.jpg###################\n",
      "\n",
      "###################frame4.jpg###################\n",
      "\n",
      "###################frame39.jpg###################\n",
      "DISTRICT OF COLUMBIA\n",
      "\n",
      "poe se\n",
      "Pee Ce heer]\n",
      "pee al\n",
      "TIME: 5:53:59 AM\n",
      "###################frame6.jpg###################\n",
      "\n",
      "###################frame13.jpg###################\n",
      "\n",
      "###################frame12.jpg###################\n",
      "\n",
      "###################frame7.jpg###################\n",
      "\n",
      "###################frame3.jpg###################\n",
      "\n",
      "###################frame16.jpg###################\n",
      "\n",
      "###################frame17.jpg###################\n",
      "\n",
      "###################frame2.jpg###################\n",
      "\n",
      "###################frame0.jpg###################\n",
      "\n",
      "###################frame15.jpg###################\n",
      "\n",
      "###################frame29.jpg###################\n",
      "DISTRICT OF COLUMBIA\n",
      "\n",
      "PoE Ee AE\n",
      "eae coer. eee)\n",
      "DATE: 8/3/18\n",
      "\n",
      "Pi Se ETT\n",
      "###################frame28.jpg###################\n",
      "DISTRICT OF COLUMBIA\n",
      "\n",
      "PoE Ee AE\n",
      "HEADING: 124° (1)\n",
      "DATE: 8/3/18\n",
      "\n",
      "Pi Se ET\n",
      "###################frame14.jpg###################\n",
      "\n",
      "###################frame1.jpg###################\n",
      "\n",
      "###################frame49.jpg###################\n",
      "DISTRICT OF COLUMBIA\n",
      "\n",
      "PoE ee\n",
      "HEADING: 143° (T)\n",
      "poi oe cal\n",
      "TIME: 5:54:39 AM\n",
      "###################frame48.jpg###################\n",
      "DISTRICT OF COLUMBIA\n",
      "\n",
      "PSE ee\n",
      "Pewee iam ee]\n",
      "poli oe cal)\n",
      "TIME: 5:54:35 AM\n"
     ]
    }
   ],
   "source": [
    "indir = './frames_lmtd/'\n",
    "for root, dirs, filenames in os.walk(indir):\n",
    "    for filename in filenames:\n",
    "        print('###################' + filename + '###################')\n",
    "        im = cv2.imread(indir + filename)\n",
    "        height, width = im.shape[:2]\n",
    "        crop_width = 290\n",
    "        crop_height = 220\n",
    "        region = im[height-crop_height:height,0:crop_width].copy()\n",
    "        region = cv2.cvtColor(region, cv2.COLOR_BGR2GRAY)\n",
    "        new_im = cv2.threshold(cv2.GaussianBlur(region, (5,5), 0), 250, 255, cv2.THRESH_BINARY + cv2.THRESH_OTSU)[1]\n",
    "        text = pytesseract.image_to_string(new_im, lang='eng')\n",
    "        print(text)"
   ]
  },
  {
   "cell_type": "markdown",
   "metadata": {},
   "source": [
    "### Apply Binarization Only"
   ]
  },
  {
   "cell_type": "code",
   "execution_count": 61,
   "metadata": {},
   "outputs": [
    {
     "name": "stdout",
     "output_type": "stream",
     "text": [
      "###################frame46.jpg###################\n"
     ]
    },
    {
     "data": {
      "image/png": "[encoded data removed]",
      "text/plain": [
       "<Figure size 432x288 with 1 Axes>"
      ]
     },
     "metadata": {
      "needs_background": "light"
     },
     "output_type": "display_data"
    },
    {
     "name": "stdout",
     "output_type": "stream",
     "text": [
      "###################frame47.jpg###################\n"
     ]
    },
    {
     "data": {
      "image/png": "[encoded data removed]",
      "text/plain": [
       "<Figure size 432x288 with 1 Axes>"
      ]
     },
     "metadata": {
      "needs_background": "light"
     },
     "output_type": "display_data"
    },
    {
     "name": "stdout",
     "output_type": "stream",
     "text": [
      "###################frame45.jpg###################\n"
     ]
    },
    {
     "data": {
      "image/png": "[encoded data removed]",
      "text/plain": [
       "<Figure size 432x288 with 1 Axes>"
      ]
     },
     "metadata": {
      "needs_background": "light"
     },
     "output_type": "display_data"
    },
    {
     "name": "stdout",
     "output_type": "stream",
     "text": [
      "###################frame44.jpg###################\n"
     ]
    },
    {
     "data": {
      "image/png": "[encoded data removed]",
      "text/plain": [
       "<Figure size 432x288 with 1 Axes>"
      ]
     },
     "metadata": {
      "needs_background": "light"
     },
     "output_type": "display_data"
    },
    {
     "name": "stdout",
     "output_type": "stream",
     "text": [
      "###################frame40.jpg###################\n"
     ]
    },
    {
     "data": {
      "image/png": "[encoded data removed]",
      "text/plain": [
       "<Figure size 432x288 with 1 Axes>"
      ]
     },
     "metadata": {
      "needs_background": "light"
     },
     "output_type": "display_data"
    },
    {
     "name": "stdout",
     "output_type": "stream",
     "text": [
      "###################frame41.jpg###################\n"
     ]
    },
    {
     "data": {
      "image/png": "[encoded data removed]",
      "text/plain": [
       "<Figure size 432x288 with 1 Axes>"
      ]
     },
     "metadata": {
      "needs_background": "light"
     },
     "output_type": "display_data"
    },
    {
     "name": "stdout",
     "output_type": "stream",
     "text": [
      "###################frame43.jpg###################\n"
     ]
    },
    {
     "data": {
      "image/png": "[encoded data removed]",
      "text/plain": [
       "<Figure size 432x288 with 1 Axes>"
      ]
     },
     "metadata": {
      "needs_background": "light"
     },
     "output_type": "display_data"
    },
    {
     "name": "stdout",
     "output_type": "stream",
     "text": [
      "###################frame42.jpg###################\n"
     ]
    },
    {
     "data": {
      "image/png": "[encoded data removed]",
      "text/plain": [
       "<Figure size 432x288 with 1 Axes>"
      ]
     },
     "metadata": {
      "needs_background": "light"
     },
     "output_type": "display_data"
    },
    {
     "name": "stdout",
     "output_type": "stream",
     "text": [
      "###################frame19.jpg###################\n"
     ]
    },
    {
     "data": {
      "image/png": "[encoded data removed]",
      "text/plain": [
       "<Figure size 432x288 with 1 Axes>"
      ]
     },
     "metadata": {
      "needs_background": "light"
     },
     "output_type": "display_data"
    },
    {
     "name": "stdout",
     "output_type": "stream",
     "text": [
      "###################frame25.jpg###################\n"
     ]
    },
    {
     "data": {
      "image/png": "[encoded data removed]",
      "text/plain": [
       "<Figure size 432x288 with 1 Axes>"
      ]
     },
     "metadata": {
      "needs_background": "light"
     },
     "output_type": "display_data"
    },
    {
     "name": "stdout",
     "output_type": "stream",
     "text": [
      "###################frame31.jpg###################\n"
     ]
    },
    {
     "data": {
      "image/png": "[encoded data removed]",
      "text/plain": [
       "<Figure size 432x288 with 1 Axes>"
      ]
     },
     "metadata": {
      "needs_background": "light"
     },
     "output_type": "display_data"
    },
    {
     "name": "stdout",
     "output_type": "stream",
     "text": [
      "###################frame30.jpg###################\n"
     ]
    },
    {
     "data": {
      "image/png": "[encoded data removed]",
      "text/plain": [
       "<Figure size 432x288 with 1 Axes>"
      ]
     },
     "metadata": {
      "needs_background": "light"
     },
     "output_type": "display_data"
    },
    {
     "name": "stdout",
     "output_type": "stream",
     "text": [
      "###################frame24.jpg###################\n"
     ]
    },
    {
     "data": {
      "image/png": "[encoded data removed]",
      "text/plain": [
       "<Figure size 432x288 with 1 Axes>"
      ]
     },
     "metadata": {
      "needs_background": "light"
     },
     "output_type": "display_data"
    },
    {
     "name": "stdout",
     "output_type": "stream",
     "text": [
      "###################frame18.jpg###################\n"
     ]
    },
    {
     "data": {
      "image/png": "[encoded data removed]",
      "text/plain": [
       "<Figure size 432x288 with 1 Axes>"
      ]
     },
     "metadata": {
      "needs_background": "light"
     },
     "output_type": "display_data"
    },
    {
     "name": "stdout",
     "output_type": "stream",
     "text": [
      "###################frame32.jpg###################\n"
     ]
    },
    {
     "data": {
      "image/png": "[encoded data removed]",
      "text/plain": [
       "<Figure size 432x288 with 1 Axes>"
      ]
     },
     "metadata": {
      "needs_background": "light"
     },
     "output_type": "display_data"
    },
    {
     "name": "stdout",
     "output_type": "stream",
     "text": [
      "###################frame26.jpg###################\n"
     ]
    },
    {
     "data": {
      "image/png": "[encoded data removed]",
      "text/plain": [
       "<Figure size 432x288 with 1 Axes>"
      ]
     },
     "metadata": {
      "needs_background": "light"
     },
     "output_type": "display_data"
    },
    {
     "name": "stdout",
     "output_type": "stream",
     "text": [
      "###################frame27.jpg###################\n"
     ]
    },
    {
     "data": {
      "image/png": "[encoded data removed]",
      "text/plain": [
       "<Figure size 432x288 with 1 Axes>"
      ]
     },
     "metadata": {
      "needs_background": "light"
     },
     "output_type": "display_data"
    },
    {
     "name": "stdout",
     "output_type": "stream",
     "text": [
      "###################frame33.jpg###################\n"
     ]
    },
    {
     "data": {
      "image/png": "[encoded data removed]",
      "text/plain": [
       "<Figure size 432x288 with 1 Axes>"
      ]
     },
     "metadata": {
      "needs_background": "light"
     },
     "output_type": "display_data"
    },
    {
     "name": "stdout",
     "output_type": "stream",
     "text": [
      "###################frame37.jpg###################\n"
     ]
    },
    {
     "data": {
      "image/png": "[encoded data removed]",
      "text/plain": [
       "<Figure size 432x288 with 1 Axes>"
      ]
     },
     "metadata": {
      "needs_background": "light"
     },
     "output_type": "display_data"
    },
    {
     "name": "stdout",
     "output_type": "stream",
     "text": [
      "###################frame23.jpg###################\n"
     ]
    },
    {
     "data": {
      "image/png": "[encoded data removed]",
      "text/plain": [
       "<Figure size 432x288 with 1 Axes>"
      ]
     },
     "metadata": {
      "needs_background": "light"
     },
     "output_type": "display_data"
    },
    {
     "name": "stdout",
     "output_type": "stream",
     "text": [
      "###################frame22.jpg###################\n"
     ]
    },
    {
     "data": {
      "image/png": "[encoded data removed]",
      "text/plain": [
       "<Figure size 432x288 with 1 Axes>"
      ]
     },
     "metadata": {
      "needs_background": "light"
     },
     "output_type": "display_data"
    },
    {
     "name": "stdout",
     "output_type": "stream",
     "text": [
      "###################frame36.jpg###################\n"
     ]
    },
    {
     "data": {
      "image/png": "[encoded data removed]",
      "text/plain": [
       "<Figure size 432x288 with 1 Axes>"
      ]
     },
     "metadata": {
      "needs_background": "light"
     },
     "output_type": "display_data"
    },
    {
     "name": "stdout",
     "output_type": "stream",
     "text": [
      "###################frame20.jpg###################\n"
     ]
    },
    {
     "data": {
      "image/png": "[encoded data removed]",
      "text/plain": [
       "<Figure size 432x288 with 1 Axes>"
      ]
     },
     "metadata": {
      "needs_background": "light"
     },
     "output_type": "display_data"
    },
    {
     "name": "stdout",
     "output_type": "stream",
     "text": [
      "###################frame34.jpg###################\n"
     ]
    },
    {
     "data": {
      "image/png": "[encoded data removed]",
      "text/plain": [
       "<Figure size 432x288 with 1 Axes>"
      ]
     },
     "metadata": {
      "needs_background": "light"
     },
     "output_type": "display_data"
    },
    {
     "name": "stdout",
     "output_type": "stream",
     "text": [
      "###################frame9.jpg###################\n"
     ]
    },
    {
     "data": {
      "image/png": "[encoded data removed]",
      "text/plain": [
       "<Figure size 432x288 with 1 Axes>"
      ]
     },
     "metadata": {
      "needs_background": "light"
     },
     "output_type": "display_data"
    },
    {
     "name": "stdout",
     "output_type": "stream",
     "text": [
      "###################frame8.jpg###################\n"
     ]
    },
    {
     "data": {
      "image/png": "[encoded data removed]",
      "text/plain": [
       "<Figure size 432x288 with 1 Axes>"
      ]
     },
     "metadata": {
      "needs_background": "light"
     },
     "output_type": "display_data"
    },
    {
     "name": "stdout",
     "output_type": "stream",
     "text": [
      "###################frame35.jpg###################\n"
     ]
    },
    {
     "data": {
      "image/png": "[encoded data removed]",
      "text/plain": [
       "<Figure size 432x288 with 1 Axes>"
      ]
     },
     "metadata": {
      "needs_background": "light"
     },
     "output_type": "display_data"
    },
    {
     "name": "stdout",
     "output_type": "stream",
     "text": [
      "###################frame21.jpg###################\n"
     ]
    },
    {
     "data": {
      "image/png": "[encoded data removed]",
      "text/plain": [
       "<Figure size 432x288 with 1 Axes>"
      ]
     },
     "metadata": {
      "needs_background": "light"
     },
     "output_type": "display_data"
    },
    {
     "name": "stdout",
     "output_type": "stream",
     "text": [
      "###################frame38.jpg###################\n"
     ]
    },
    {
     "data": {
      "image/png": "[encoded data removed]",
      "text/plain": [
       "<Figure size 432x288 with 1 Axes>"
      ]
     },
     "metadata": {
      "needs_background": "light"
     },
     "output_type": "display_data"
    },
    {
     "name": "stdout",
     "output_type": "stream",
     "text": [
      "###################frame5.jpg###################\n"
     ]
    },
    {
     "data": {
      "image/png": "[encoded data removed]",
      "text/plain": [
       "<Figure size 432x288 with 1 Axes>"
      ]
     },
     "metadata": {
      "needs_background": "light"
     },
     "output_type": "display_data"
    },
    {
     "name": "stdout",
     "output_type": "stream",
     "text": [
      "###################frame10.jpg###################\n"
     ]
    },
    {
     "data": {
      "image/png": "[encoded data removed]",
      "text/plain": [
       "<Figure size 432x288 with 1 Axes>"
      ]
     },
     "metadata": {
      "needs_background": "light"
     },
     "output_type": "display_data"
    },
    {
     "name": "stdout",
     "output_type": "stream",
     "text": [
      "###################frame11.jpg###################\n"
     ]
    },
    {
     "data": {
      "image/png": "[encoded data removed]",
      "text/plain": [
       "<Figure size 432x288 with 1 Axes>"
      ]
     },
     "metadata": {
      "needs_background": "light"
     },
     "output_type": "display_data"
    },
    {
     "name": "stdout",
     "output_type": "stream",
     "text": [
      "###################frame4.jpg###################\n"
     ]
    },
    {
     "data": {
      "image/png": "[encoded data removed]",
      "text/plain": [
       "<Figure size 432x288 with 1 Axes>"
      ]
     },
     "metadata": {
      "needs_background": "light"
     },
     "output_type": "display_data"
    },
    {
     "name": "stdout",
     "output_type": "stream",
     "text": [
      "###################frame39.jpg###################\n"
     ]
    },
    {
     "data": {
      "image/png": "[encoded data removed]",
      "text/plain": [
       "<Figure size 432x288 with 1 Axes>"
      ]
     },
     "metadata": {
      "needs_background": "light"
     },
     "output_type": "display_data"
    },
    {
     "name": "stdout",
     "output_type": "stream",
     "text": [
      "###################frame6.jpg###################\n"
     ]
    },
    {
     "data": {
      "image/png": "[encoded data removed]",
      "text/plain": [
       "<Figure size 432x288 with 1 Axes>"
      ]
     },
     "metadata": {
      "needs_background": "light"
     },
     "output_type": "display_data"
    },
    {
     "name": "stdout",
     "output_type": "stream",
     "text": [
      "###################frame13.jpg###################\n"
     ]
    },
    {
     "data": {
      "image/png": "[encoded data removed]",
      "text/plain": [
       "<Figure size 432x288 with 1 Axes>"
      ]
     },
     "metadata": {
      "needs_background": "light"
     },
     "output_type": "display_data"
    },
    {
     "name": "stdout",
     "output_type": "stream",
     "text": [
      "###################frame12.jpg###################\n"
     ]
    },
    {
     "data": {
      "image/png": "[encoded data removed]",
      "text/plain": [
       "<Figure size 432x288 with 1 Axes>"
      ]
     },
     "metadata": {
      "needs_background": "light"
     },
     "output_type": "display_data"
    },
    {
     "name": "stdout",
     "output_type": "stream",
     "text": [
      "###################frame7.jpg###################\n"
     ]
    },
    {
     "data": {
      "image/png": "[encoded data removed]",
      "text/plain": [
       "<Figure size 432x288 with 1 Axes>"
      ]
     },
     "metadata": {
      "needs_background": "light"
     },
     "output_type": "display_data"
    },
    {
     "name": "stdout",
     "output_type": "stream",
     "text": [
      "###################frame3.jpg###################\n"
     ]
    },
    {
     "data": {
      "image/png": "[encoded data removed]",
      "text/plain": [
       "<Figure size 432x288 with 1 Axes>"
      ]
     },
     "metadata": {
      "needs_background": "light"
     },
     "output_type": "display_data"
    },
    {
     "name": "stdout",
     "output_type": "stream",
     "text": [
      "###################frame16.jpg###################\n"
     ]
    },
    {
     "data": {
      "image/png": "[encoded data removed]",
      "text/plain": [
       "<Figure size 432x288 with 1 Axes>"
      ]
     },
     "metadata": {
      "needs_background": "light"
     },
     "output_type": "display_data"
    },
    {
     "name": "stdout",
     "output_type": "stream",
     "text": [
      "###################frame17.jpg###################\n"
     ]
    },
    {
     "data": {
      "image/png": "[encoded data removed]",
      "text/plain": [
       "<Figure size 432x288 with 1 Axes>"
      ]
     },
     "metadata": {
      "needs_background": "light"
     },
     "output_type": "display_data"
    },
    {
     "name": "stdout",
     "output_type": "stream",
     "text": [
      "###################frame2.jpg###################\n"
     ]
    },
    {
     "data": {
      "image/png": "[encoded data removed]",
      "text/plain": [
       "<Figure size 432x288 with 1 Axes>"
      ]
     },
     "metadata": {
      "needs_background": "light"
     },
     "output_type": "display_data"
    },
    {
     "name": "stdout",
     "output_type": "stream",
     "text": [
      "###################frame0.jpg###################\n"
     ]
    },
    {
     "data": {
      "image/png": "[encoded data removed]",
      "text/plain": [
       "<Figure size 432x288 with 1 Axes>"
      ]
     },
     "metadata": {
      "needs_background": "light"
     },
     "output_type": "display_data"
    },
    {
     "name": "stdout",
     "output_type": "stream",
     "text": [
      "###################frame15.jpg###################\n"
     ]
    },
    {
     "data": {
      "image/png": "[encoded data removed]",
      "text/plain": [
       "<Figure size 432x288 with 1 Axes>"
      ]
     },
     "metadata": {
      "needs_background": "light"
     },
     "output_type": "display_data"
    },
    {
     "name": "stdout",
     "output_type": "stream",
     "text": [
      "###################frame29.jpg###################\n"
     ]
    },
    {
     "data": {
      "image/png": "[encoded data removed]",
      "text/plain": [
       "<Figure size 432x288 with 1 Axes>"
      ]
     },
     "metadata": {
      "needs_background": "light"
     },
     "output_type": "display_data"
    },
    {
     "name": "stdout",
     "output_type": "stream",
     "text": [
      "###################frame28.jpg###################\n"
     ]
    },
    {
     "data": {
      "image/png": "[encoded data removed]",
      "text/plain": [
       "<Figure size 432x288 with 1 Axes>"
      ]
     },
     "metadata": {
      "needs_background": "light"
     },
     "output_type": "display_data"
    },
    {
     "name": "stdout",
     "output_type": "stream",
     "text": [
      "###################frame14.jpg###################\n"
     ]
    },
    {
     "data": {
      "image/png": "[encoded data removed]",
      "text/plain": [
       "<Figure size 432x288 with 1 Axes>"
      ]
     },
     "metadata": {
      "needs_background": "light"
     },
     "output_type": "display_data"
    },
    {
     "name": "stdout",
     "output_type": "stream",
     "text": [
      "###################frame1.jpg###################\n"
     ]
    },
    {
     "data": {
      "image/png": "[encoded data removed]",
      "text/plain": [
       "<Figure size 432x288 with 1 Axes>"
      ]
     },
     "metadata": {
      "needs_background": "light"
     },
     "output_type": "display_data"
    },
    {
     "name": "stdout",
     "output_type": "stream",
     "text": [
      "###################frame49.jpg###################\n"
     ]
    },
    {
     "data": {
      "image/png": "[encoded data removed]",
      "text/plain": [
       "<Figure size 432x288 with 1 Axes>"
      ]
     },
     "metadata": {
      "needs_background": "light"
     },
     "output_type": "display_data"
    },
    {
     "name": "stdout",
     "output_type": "stream",
     "text": [
      "###################frame48.jpg###################\n"
     ]
    },
    {
     "data": {
      "image/png": "[encoded data removed]",
      "text/plain": [
       "<Figure size 432x288 with 1 Axes>"
      ]
     },
     "metadata": {
      "needs_background": "light"
     },
     "output_type": "display_data"
    }
   ],
   "source": [
    "#PLOT HISTOGRAM OF GRAYSCALE PIXELS\n",
    "indir = './frames_lmtd/'\n",
    "for root, dirs, filenames in os.walk(indir):\n",
    "    for filename in filenames:\n",
    "        print('###################' + filename + '###################')\n",
    "        im = cv2.imread(indir + filename)\n",
    "        height, width = im.shape[:2]\n",
    "        crop_width = 290\n",
    "        crop_height = 220\n",
    "        region = im[height-crop_height:height,0:crop_width].copy()\n",
    "        region = cv2.cvtColor(region, cv2.COLOR_BGR2GRAY)\n",
    "        \n",
    "        plt.hist(region.ravel(),256,[0,256])\n",
    "        plt.show()"
   ]
  },
  {
   "cell_type": "code",
   "execution_count": 68,
   "metadata": {},
   "outputs": [
    {
     "name": "stdout",
     "output_type": "stream",
     "text": [
      "###################frame46.jpg###################\n",
      "DISTRICT OF COLUMBIA\n",
      "\n",
      "pe 73 0) aoe I\n",
      "HEADING: 127° (1)\n",
      "ei Se EL]\n",
      "TIME: 5:54:27 AM\n",
      "###################frame47.jpg###################\n",
      "DISTRICT OF COLUMBIA\n",
      "\n",
      "pam 0) arse\n",
      "HEADING: 127° (1)\n",
      "ei Se EL]\n",
      "TIME: 5:54:31 AM\n",
      "###################frame45.jpg###################\n",
      "DISTRICT OF COLUMBIA\n",
      "\n",
      "pe 0) aon\n",
      "HEADING: 127° (1)\n",
      "fee EL]\n",
      "TIME: 5:54:23 AM\n",
      "###################frame44.jpg###################\n",
      "DISTRICT OF COLUMBIA\n",
      "\n",
      "pm Ol larson I\n",
      "HEADING: 130° (1)\n",
      "fe Nie EL]\n",
      "TIME: 5:54:19 AM\n",
      "###################frame40.jpg###################\n",
      "DISTRICT OF COLUMBIA\n",
      "\n",
      "ELEVATION: 25 M\n",
      "HEADING: 130° (1)\n",
      "for Ti Se KEL]\n",
      "TIME: 5:54:03 AM\n",
      "###################frame41.jpg###################\n",
      "DISTRICT OF COLUMBIA\n",
      "\n",
      "poe A735 ol are\n",
      "HEADING: 131° (1)\n",
      "for Ti Se KEL]\n",
      "TIME: 5:54:07 AM\n",
      "###################frame43.jpg###################\n",
      "BUTI eg me eee) BUl ey\n",
      "\n",
      "PRY Ol ark\n",
      "HEADING: 131° (1)\n",
      "ete aL]\n",
      "TIME: 5:54:15 AM\n",
      "###################frame42.jpg###################\n",
      "DISTRICT OF COLUMBIA\n",
      "\n",
      "ELEVATION: 25 M\n",
      "HEADING: 131° (1)\n",
      "for ie aL]\n",
      "TIME: 5:54:11 AM\n",
      "###################frame19.jpg###################\n",
      "\n",
      "###################frame25.jpg###################\n",
      "DISTRICT OF COLUMBIA\n",
      "\n",
      "PRS Ol are\n",
      "HEADING: 125° (1)\n",
      "fey tie EL]\n",
      "\n",
      "Er Mees na Od\n",
      "###################frame31.jpg###################\n",
      "1B) tes me eee) BOL Ulery\n",
      "\n",
      "ELEVATION: 24M\n",
      "HEADING: 124° (1)\n",
      "oR ESB EL]\n",
      "\n",
      "EE ee aa Od\n",
      "###################frame30.jpg###################\n",
      "DISTRICT OF COLUMBIA\n",
      "\n",
      "PRS Ol ark J\n",
      "HEADING: 123° (1)\n",
      "eRe EL]\n",
      "EE eNO)\n",
      "###################frame24.jpg###################\n",
      "DISTRICT OF COLUMBIA\n",
      "\n",
      "PZ O) ark I\n",
      "HEADING: 125° (1)\n",
      "fey Rie EL]\n",
      "Meo seeral Od\n",
      "###################frame18.jpg###################\n",
      "\n",
      "###################frame32.jpg###################\n",
      "DISTRICT OF COLUMBIA\n",
      "\n",
      "pm Ol lars\n",
      "HEADING: 125° (1)\n",
      "fe SESE EL]\n",
      "\n",
      "EE One RCP Od\n",
      "###################frame26.jpg###################\n",
      "DISTRICT OF COLUMBIA\n",
      "\n",
      "PRS Ol ark I\n",
      "HEADING: 125° (1)\n",
      "fey tie EL]\n",
      "Eee rd\n",
      "###################frame27.jpg###################\n",
      "PUN ate Oem ele) BULL IeIr AN\n",
      "\n",
      "PRS Ol ark J\n",
      "HEADING: 124° (1)\n",
      "eT Ee EL]\n",
      "TIME: 5:53:11 AM\n",
      "###################frame33.jpg###################\n",
      "DISTRICT OF COLUMBIA\n",
      "\n",
      "PRTC) are\n",
      "HEADING: 128° (1)\n",
      "fo ESE EL]\n",
      "\n",
      "EE aoe Reed\n",
      "###################frame37.jpg###################\n",
      "DISTRICT OF COLUMBIA\n",
      "\n",
      "ELEVATION: 24M\n",
      "HEADING: 130° (1)\n",
      "fo SESE EL]\n",
      "\n",
      "Ee eon OL\n",
      "###################frame23.jpg###################\n",
      "DISTRICT OF COLUMBIA\n",
      "\n",
      "PZT O) ere\n",
      "HEADING: 126° (1)\n",
      "foie EL]\n",
      "TIME: 5:52:54 AM\n",
      "###################frame22.jpg###################\n",
      "DISTRICT OF COLUMBIA\n",
      "\n",
      "PRS e) ara\n",
      "HEADING: 125° (1)\n",
      "foie EL]\n",
      "eae\n",
      "###################frame36.jpg###################\n",
      "DISTRICT OF COLUMBIA\n",
      "\n",
      "PRY Ol lars\n",
      "HEADING: 131° (1)\n",
      "fo SEK EL]\n",
      "\n",
      "EE aoe aU\n",
      "###################frame20.jpg###################\n",
      "\n",
      "###################frame34.jpg###################\n",
      "DISTRICT OF COLUMBIA\n",
      "\n",
      "PRTC) are]\n",
      "HEADING: 128° (1)\n",
      "fo SEK EL]\n",
      "\n",
      "EE ae RCE Od\n",
      "###################frame9.jpg###################\n",
      "\n",
      "###################frame8.jpg###################\n",
      "\n",
      "###################frame35.jpg###################\n",
      "DISTRICT OF COLUMBIA\n",
      "\n",
      "PISO) arse\n",
      "HEADING: 128° (1)\n",
      "fo SERA]\n",
      "\n",
      "EE aoe LL\n",
      "###################frame21.jpg###################\n",
      "DISTRICT OF COLUMBIA\n",
      "\n",
      "PRO) ee\n",
      "fae Caer Mae]\n",
      "fo REBEL]\n",
      "\n",
      "EE aeoerae etd\n",
      "###################frame38.jpg###################\n",
      "DISTRICT OF COLUMBIA\n",
      "\n",
      "ELEVATION: 24M\n",
      "HEADING: 131° (1)\n",
      "fore aL]\n",
      "TIME: 5:53:55 AM\n",
      "###################frame5.jpg###################\n",
      "\n",
      "###################frame10.jpg###################\n",
      "\n",
      "###################frame11.jpg###################\n",
      "\n",
      "###################frame4.jpg###################\n",
      "\n",
      "###################frame39.jpg###################\n",
      "PUI eg me mele BO) =I y\n",
      "\n",
      "poe 7s Ol lark\n",
      "HEADING: 137° (1)\n",
      "fore aL]\n",
      "TIME: 5:53:59 AM\n",
      "###################frame6.jpg###################\n",
      "\n",
      "###################frame13.jpg###################\n",
      "\n",
      "###################frame12.jpg###################\n",
      "\n",
      "###################frame7.jpg###################\n",
      "\n",
      "###################frame3.jpg###################\n",
      "\n",
      "###################frame16.jpg###################\n",
      "\n",
      "###################frame17.jpg###################\n",
      "\n",
      "###################frame2.jpg###################\n",
      "\n",
      "###################frame0.jpg###################\n",
      "\n",
      "###################frame15.jpg###################\n",
      "\n",
      "###################frame29.jpg###################\n",
      "PUES ates me] am ele) BOL Ulery\n",
      "\n",
      "PRS Ol ark J\n",
      "HEADING: 124° (1)\n",
      "eRe EL]\n",
      "\n",
      "Ee eee EEO\n",
      "###################frame28.jpg###################\n",
      "PUN 1eg me am ele) BOL Ulery\n",
      "\n",
      "FRSC) are]\n",
      "HEADING: 124° (1)\n",
      "eRe EL]\n",
      "eee Ee Od\n",
      "###################frame14.jpg###################\n",
      "\n",
      "###################frame1.jpg###################\n",
      "\n",
      "###################frame49.jpg###################\n",
      "DISTRICT OF COLUMBIA\n",
      "\n",
      "p76) arse\n",
      "HEADING: 143° (1)\n",
      "oN Ee EL]\n",
      "TIME: 5:54:39 AM\n",
      "###################frame48.jpg###################\n",
      "DISTRICT OF COLUMBIA\n",
      "\n",
      "p76) arse\n",
      "HEADING: 127° (1)\n",
      "eRe EL]\n",
      "TIME: 5:54:35 AM\n"
     ]
    }
   ],
   "source": [
    "indir = './frames_lmtd/'\n",
    "for root, dirs, filenames in os.walk(indir):\n",
    "    for filename in filenames:\n",
    "        print('###################' + filename + '###################')\n",
    "        im = cv2.imread(indir + filename)\n",
    "        height, width = im.shape[:2]\n",
    "        crop_width = 290\n",
    "        crop_height = 220\n",
    "        region = im[height-crop_height:height,0:crop_width].copy()\n",
    "        region = cv2.cvtColor(region, cv2.COLOR_BGR2GRAY)\n",
    "        new_im = cv2.threshold(region,120,255,cv2.THRESH_BINARY + cv2.THRESH_OTSU)[1]\n",
    "        #plt.imshow(new_im)\n",
    "        #plt.show()\n",
    "        #new_im = cv2.threshold(cv2.GaussianBlur(region, (5,5), 0), 250, 255, cv2.THRESH_BINARY + cv2.THRESH_OTSU)[1]\n",
    "        text = pytesseract.image_to_string(new_im, lang='eng')\n",
    "        print(text)"
   ]
  },
  {
   "cell_type": "markdown",
   "metadata": {},
   "source": [
    "### Adaptive threshold"
   ]
  },
  {
   "cell_type": "code",
   "execution_count": 57,
   "metadata": {},
   "outputs": [
    {
     "name": "stdout",
     "output_type": "stream",
     "text": [
      "###################frame46.jpg###################\n",
      "\n",
      "###################frame47.jpg###################\n",
      "DISTRICT OF COLUMBIA\n",
      "\n",
      "    \n",
      "\n",
      "PTV Oe De\n",
      "HEADING: 127° (7)\n",
      "ae E\n",
      "ae\n",
      "###################frame45.jpg###################\n",
      ". TIME: 5:54:23 AM\n",
      "###################frame44.jpg###################\n",
      "\n",
      "###################frame40.jpg###################\n",
      "aE EL]\n",
      "ee RSC\n",
      "\n",
      " \n",
      "\n",
      "J\n",
      "###################frame41.jpg###################\n",
      "Cee de\n",
      "PVs oom ELBA ES)\n",
      "###################frame43.jpg###################\n",
      "DISTRICT OF Protest\n",
      "a ~\n",
      "\n",
      "are\n",
      "oy ORE TE]\n",
      "ye ED\n",
      "Se\n",
      "###################frame42.jpg###################\n",
      "eK EL]\n",
      "eee Se\n",
      "###################frame19.jpg###################\n",
      "\n",
      "###################frame25.jpg###################\n",
      "Cars OF COLUMBIA\n",
      "\n",
      "   \n",
      "\n",
      ". Peo 22M\n",
      "HEADING: 125° (1)\n",
      "eK EL\n",
      "PRR Oe\n",
      "###################frame31.jpg###################\n",
      "PEAR\n",
      "Laer e\n",
      "oniaaate\n",
      "###################frame30.jpg###################\n",
      "\n",
      "###################frame24.jpg###################\n",
      "etal)\n",
      "Perl\n",
      "Pray Cerri)\n",
      "\n",
      "     \n",
      "   \n",
      "   \n",
      "\n",
      "bare]\n",
      "###################frame18.jpg###################\n",
      "\n",
      "###################frame32.jpg###################\n",
      "Saeed\n",
      "###################frame26.jpg###################\n",
      "DISTRICT OF COLUMBIA\n",
      "###################frame27.jpg###################\n",
      "Rois OF COLUMBIA\n",
      "\n",
      "Teter. x] M\n",
      "HEADING: 124° (T)\n",
      "###################frame33.jpg###################\n",
      "SEX T\n",
      "###################frame37.jpg###################\n",
      "DISTRICT OF COLUMBIA\n",
      "a> Soe\n",
      "\n",
      "      \n",
      "     \n",
      "   \n",
      "\n",
      "ELEVATION: 24 M |\n",
      "HEADING: 130° (7)\n",
      "DEE\n",
      "\n",
      "‘een\n",
      "###################frame23.jpg###################\n",
      "§ DISTRICT OF COLUMBIA\n",
      "\n",
      "'\n",
      "\n",
      "Sere ern\n",
      "[ HEADING: 126° (1)\n",
      "###################frame22.jpg###################\n",
      "\n",
      "###################frame36.jpg###################\n",
      "DISTRICT OF COLUMBIA\n",
      "\n",
      "  \n",
      "   \n",
      " \n",
      "\n",
      "  \n",
      "\n",
      "ero et\n",
      "HEADING: 131° (T)\n",
      "DATE: 5/3/18\n",
      "Sista\n",
      "###################frame20.jpg###################\n",
      "\n",
      "###################frame34.jpg###################\n",
      "i imeeckitsry\n",
      "t\n",
      "\n",
      "ELEVATION: 23 M\n",
      "Ee mrs a)\n",
      "SEED\n",
      "Ez\n",
      "###################frame9.jpg###################\n",
      "\n",
      "###################frame8.jpg###################\n",
      "\n",
      "###################frame35.jpg###################\n",
      "CEs eg Centar |\n",
      "\n",
      "pei Oa i\n",
      "HEADING: 128° (T)\n",
      "\n",
      "      \n",
      "   \n",
      " \n",
      "\n",
      "aig enka op,\n",
      "###################frame21.jpg###################\n",
      "“Al Ee. /\n",
      "###################frame38.jpg###################\n",
      "br RXR\n",
      "###################frame5.jpg###################\n",
      "\n",
      "###################frame10.jpg###################\n",
      "\n",
      "###################frame11.jpg###################\n",
      "\n",
      "###################frame4.jpg###################\n",
      "\n",
      "###################frame39.jpg###################\n",
      "Sst\n",
      "###################frame6.jpg###################\n",
      "\n",
      "###################frame13.jpg###################\n",
      "\n",
      "###################frame12.jpg###################\n",
      "\n",
      "###################frame7.jpg###################\n",
      "\n",
      "###################frame3.jpg###################\n",
      "\n",
      "###################frame16.jpg###################\n",
      "\n",
      "###################frame17.jpg###################\n",
      "\n",
      "###################frame2.jpg###################\n",
      "\n",
      "###################frame0.jpg###################\n",
      "\n",
      "###################frame15.jpg###################\n",
      "\n",
      "###################frame29.jpg###################\n",
      "Teed\n",
      "HEADING: 124° (1)\n",
      "###################frame28.jpg###################\n",
      "wae Ca COLUMBIA\n",
      "\n",
      "i =\n",
      "ELEVATION: r<Ee ly\n",
      "i\n",
      "\n",
      "y,\n",
      "\n",
      "s\n",
      "\n",
      "    \n",
      "   \n",
      "  \n",
      "\n",
      "  \n",
      "\n",
      "cay Cer y\n",
      "eae\n",
      "ee\n",
      "###################frame14.jpg###################\n",
      "\n",
      "###################frame1.jpg###################\n",
      "\n",
      "###################frame49.jpg###################\n",
      "DISTRICT OF COLUMBIA\n",
      "\n",
      "Teed\n",
      "HEADING: 143° (1)\n",
      "ya E\n",
      "\n",
      "TIME: 6:64:39 AM ant\n",
      "###################frame48.jpg###################\n",
      "DISTRICT OF COLUMBIA\n",
      "a” oe\n",
      "\n",
      "Teer yyy\n",
      "HEADING: 127° (1)\n",
      "ya E\n",
      "Seay\n"
     ]
    }
   ],
   "source": [
    "indir = './frames_lmtd/'\n",
    "for root, dirs, filenames in os.walk(indir):\n",
    "    for filename in filenames:\n",
    "        print('###################' + filename + '###################')\n",
    "        im = cv2.imread(indir + filename)\n",
    "        height, width = im.shape[:2]\n",
    "        crop_width = 290\n",
    "        crop_height = 220\n",
    "        region = im[height-crop_height:height,0:crop_width].copy()\n",
    "        region = cv2.cvtColor(region, cv2.COLOR_BGR2GRAY)\n",
    "        new_im = cv2.adaptiveThreshold(region, 255, cv2.ADAPTIVE_THRESH_GAUSSIAN_C, cv2.THRESH_BINARY, 31, 2)\n",
    "        text = pytesseract.image_to_string(new_im, lang='eng')\n",
    "        print(text)"
   ]
  },
  {
   "cell_type": "code",
   "execution_count": null,
   "metadata": {},
   "outputs": [],
   "source": []
  }
 ],
 "metadata": {
  "kernelspec": {
   "display_name": "Python 3",
   "language": "python",
   "name": "python3"
  },
  "language_info": {
   "codemirror_mode": {
    "name": "ipython",
    "version": 3
   },
   "file_extension": ".py",
   "mimetype": "text/x-python",
   "name": "python",
   "nbconvert_exporter": "python",
   "pygments_lexer": "ipython3",
   "version": "3.6.6"
  }
 },
 "nbformat": 4,
 "nbformat_minor": 2
}
